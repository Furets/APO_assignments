{
 "cells": [
  {
   "cell_type": "code",
   "execution_count": 1,
   "id": "3d834f64",
   "metadata": {},
   "outputs": [
    {
     "name": "stdout",
     "output_type": "stream",
     "text": [
      "Intel MKL WARNING: Support of Intel(R) Streaming SIMD Extensions 4.2 (Intel(R) SSE4.2) enabled only processors has been deprecated. Intel oneAPI Math Kernel Library 2025.0 will require Intel(R) Advanced Vector Extensions (Intel(R) AVX) instructions.\n",
      "Intel MKL WARNING: Support of Intel(R) Streaming SIMD Extensions 4.2 (Intel(R) SSE4.2) enabled only processors has been deprecated. Intel oneAPI Math Kernel Library 2025.0 will require Intel(R) Advanced Vector Extensions (Intel(R) AVX) instructions.\n"
     ]
    }
   ],
   "source": [
    "from gurobipy import *\n",
    "# from math import *\n",
    "# import math\n",
    "import numpy as np\n",
    "import pandas as pd\n",
    "import timeit\n",
    "from xlwt import Workbook"
   ]
  },
  {
   "cell_type": "code",
   "execution_count": 2,
   "id": "435d673f",
   "metadata": {},
   "outputs": [],
   "source": [
    "num_ac_types = 3 # Number of aircraft types\n",
    "LF = 0.8 # Load factor\n",
    "BT = 10 * 7 # Block time [h/week] - average utilisation time (same for all aircraft types k)\n",
    "f = 1.42 # Fuel cost [USD/gallon]"
   ]
  },
  {
   "cell_type": "code",
   "execution_count": 3,
   "id": "734cacdd",
   "metadata": {},
   "outputs": [],
   "source": [
    "data_demand = pd.read_csv('Group_6_Demand.csv')\n",
    "q = np.array(data_demand)[::,1::]  # Demand (matrix) between airports i and j\n",
    "demand = q"
   ]
  },
  {
   "cell_type": "code",
   "execution_count": 4,
   "id": "9d8aabce",
   "metadata": {},
   "outputs": [],
   "source": [
    "airports_data = pd.read_csv('Group_6_Airport_info.csv')\n",
    "Airports = airports_data['ICAO Code'].tolist()\n",
    "airports = range(len(Airports))\n",
    "runway_lengths = airports_data['Runway (m)'].tolist()"
   ]
  },
  {
   "cell_type": "code",
   "execution_count": 5,
   "id": "319042e3-cad8-409d-9964-ac07ef9531d0",
   "metadata": {},
   "outputs": [],
   "source": [
    "# Creating matrix with max runway length between origin and destination\n",
    "runways = np.zeros((len(runway_lengths), len(runway_lengths)))\n",
    "for origin in range(len(runway_lengths)):\n",
    "    for destination in range(len(runway_lengths)):\n",
    "        if origin != destination:\n",
    "            if runway_lengths[origin] < runway_lengths[destination]:\n",
    "                runways[origin][destination] = runway_lengths[origin]\n",
    "            else:\n",
    "                runways[origin][destination] = runway_lengths[destination]"
   ]
  },
  {
   "cell_type": "code",
   "execution_count": 6,
   "id": "127e669b",
   "metadata": {},
   "outputs": [],
   "source": [
    "# Extracting the distance between airports i and j from Excel file 'results.xlsx'\n",
    "\n",
    "data_distances = pd.read_csv('Group_6_Distances.csv')\n",
    "distances = np.array(data_distances)[::,1::]  # Distances (matrix) between airports i and j"
   ]
  },
  {
   "cell_type": "code",
   "execution_count": 7,
   "id": "08696b1d",
   "metadata": {},
   "outputs": [
    {
     "name": "stdout",
     "output_type": "stream",
     "text": [
      "{'speed': [820, 850, 870], 'seats': [70, 150, 320], 'TAT': [35, 45, 60], 'ac_range': [3300, 6300, 12000], 'runway': [1600, 1800, 2600], 'lease': [34000, 70000, 180000], 'op_cost': [600, 1250, 2000], 'time_cost_param': [775, 1400, 2800], 'fuel_cost_param': [2.0, 3.75, 7.0]}\n"
     ]
    }
   ],
   "source": [
    "# Aircraft parameters\n",
    "ac_param = pd.read_csv('Aircraft_info.csv')\n",
    "speed = ac_param['Speed'].tolist()\n",
    "seats = ac_param['Seats'].tolist()\n",
    "TAT = ac_param['TAT'].tolist()\n",
    "ac_range = ac_param['Range'].tolist()\n",
    "runway = ac_param['Runway'].tolist()\n",
    "lease = ac_param['Lease_c'].tolist()\n",
    "op_cost = ac_param['Operating_c'].tolist()\n",
    "time_cost_param = ac_param['Time_c'].tolist()\n",
    "fuel_cost_param = ac_param['Fuel_c'].tolist()\n",
    "\n",
    "keys = ['speed', 'seats', 'TAT', 'ac_range', 'runway', 'lease', 'op_cost', 'time_cost_param', 'fuel_cost_param']\n",
    "values = [speed, seats, TAT, ac_range, runway, lease, op_cost, time_cost_param, fuel_cost_param]\n",
    "Aircraft = dict(zip(keys, values))\n",
    "print(Aircraft)"
   ]
  },
  {
   "cell_type": "code",
   "execution_count": 8,
   "id": "e9832bda",
   "metadata": {},
   "outputs": [],
   "source": [
    "# Create a new list for 'TAT' converted to hours\n",
    "converted_TAT = [tat / 60 for tat in Aircraft['TAT']]\n",
    "\n",
    "# Update the 'TAT' value in the Aircraft dictionary with the converted values\n",
    "Aircraft['TAT'] = converted_TAT\n",
    "\n",
    "\n",
    "# Yield between airports i and j - Revenue per RPK flown\n",
    "Yield = np.zeros((len(Airports),len(Airports)))\n",
    "for i in range(len(distances)):\n",
    "    for j in range(len(distances)):\n",
    "        if i != j:\n",
    "            Yield[i][j] = 5.9 * distances[i][j] ** (-0.76) + 0.043"
   ]
  },
  {
   "cell_type": "code",
   "execution_count": 9,
   "id": "43122c16",
   "metadata": {},
   "outputs": [],
   "source": [
    "# Range matrix\n",
    "a = {}\n",
    "for k in range(num_ac_types):\n",
    "    for i in range(len(distances)):\n",
    "        for j in range(len(distances[i])):\n",
    "            a[i,j,k] = 0\n",
    "            if distances[i][j] <= Aircraft['ac_range'][k] :\n",
    "                a[i,j,k] = 10000\n"
   ]
  },
  {
   "cell_type": "code",
   "execution_count": 10,
   "id": "cfb4f830",
   "metadata": {},
   "outputs": [],
   "source": [
    "# Runway matrix\n",
    "run = {}\n",
    "for k in range(num_ac_types):\n",
    "    for i in range(len(runways)):\n",
    "        for j in range(len(runways[i])):\n",
    "            run[i,j,k] = 0\n",
    "            if runways[i][j] >= Aircraft['runway'][k] :\n",
    "                run[i,j,k] = 10000"
   ]
  },
  {
   "cell_type": "markdown",
   "id": "40373ab8-df75-4e19-b446-15c5ae7b2f5e",
   "metadata": {},
   "source": [
    "## Optimziation model."
   ]
  },
  {
   "cell_type": "code",
   "execution_count": 11,
   "id": "5008a916",
   "metadata": {},
   "outputs": [
    {
     "name": "stdout",
     "output_type": "stream",
     "text": [
      "Set parameter Username\n"
     ]
    },
    {
     "ename": "GurobiError",
     "evalue": "License expired 2023-11-19",
     "output_type": "error",
     "traceback": [
      "\u001b[0;31m---------------------------------------------------------------------------\u001b[0m",
      "\u001b[0;31mGurobiError\u001b[0m                               Traceback (most recent call last)",
      "Cell \u001b[0;32mIn[11], line 1\u001b[0m\n\u001b[0;32m----> 1\u001b[0m m \u001b[38;5;241m=\u001b[39m \u001b[43mModel\u001b[49m\u001b[43m(\u001b[49m\u001b[38;5;124;43m'\u001b[39;49m\u001b[38;5;124;43mmodel\u001b[39;49m\u001b[38;5;124;43m'\u001b[39;49m\u001b[43m)\u001b[49m\n\u001b[1;32m      3\u001b[0m \u001b[38;5;66;03m# Decision variables\u001b[39;00m\n\u001b[1;32m      4\u001b[0m x \u001b[38;5;241m=\u001b[39m {} \u001b[38;5;66;03m# direct pax flow from airport i to airport j\u001b[39;00m\n",
      "File \u001b[0;32msrc/gurobipy/model.pxi:69\u001b[0m, in \u001b[0;36mgurobipy.Model.__init__\u001b[0;34m()\u001b[0m\n",
      "File \u001b[0;32msrc/gurobipy/gurobi.pxi:28\u001b[0m, in \u001b[0;36mgurobipy.gurobi._getdefaultenv\u001b[0;34m()\u001b[0m\n",
      "File \u001b[0;32msrc/gurobipy/env.pxi:62\u001b[0m, in \u001b[0;36mgurobipy.Env.__init__\u001b[0;34m()\u001b[0m\n",
      "\u001b[0;31mGurobiError\u001b[0m: License expired 2023-11-19"
     ]
    }
   ],
   "source": [
    "m = Model('model')\n",
    "\n",
    "# Decision variables\n",
    "x = {} # direct pax flow from airport i to airport j\n",
    "w = {} # pax flow from airport i to airport j with transfer at hub\n",
    "z = {} # number of flights (frequency) from airport i to airport j\n",
    "AC = {} # number of aircraft of type k\n",
    "\n",
    "# Setting hub in Göteborg\n",
    "g = np.ones(15) # 15 airports\n",
    "g[0] = 0 # Stockholm (ESGG) is the hub\n",
    "\n",
    "# Creating dictionaries of hub & spokes\n",
    "hub = {}\n",
    "spokes = {}\n",
    "for j in range(len(q)):\n",
    "    if g[j] == 0: # Hub is the first one in the list\n",
    "        hub[j] = j\n",
    "    else:\n",
    "        spokes[j] = j\n",
    "\n",
    "for i in airports:\n",
    "    for j in airports:\n",
    "        x[i,j] = m.addVar(obj = Yield[i][j] * distances[i][j], lb=0, vtype=GRB.INTEGER)\n",
    "        w[i,j] = m.addVar(obj = 0.9 * Yield[i][j] * distances[i][j], lb=0, vtype=GRB.INTEGER) # 10% lower revenue in case of transfer at hub\n",
    "\n",
    "        for k in range(num_ac_types):\n",
    "            C_O_ac = Aircraft['op_cost'][k]\n",
    "            C_T_ac = Aircraft['time_cost_param'][k] * distances[i][j] / Aircraft['speed'][k]\n",
    "            C_F_ac = Aircraft['fuel_cost_param'][k] * f * distances[i][j] / 1.5\n",
    "\n",
    "            if g[i] == 0 or g[j] == 0: # if origin/destination is the hub\n",
    "                z[i,j,k] = m.addVar(obj= -0.7 * (C_O_ac + C_T_ac + C_F_ac), lb=0, vtype=GRB.INTEGER) # 30% lower operating costs when hub is origin/destination\n",
    "            else:\n",
    "                z[i,j,k] = m.addVar(obj= - (C_O_ac + C_T_ac + C_F_ac), lb=0, vtype=GRB.INTEGER)\n",
    "\n",
    "for k in range(num_ac_types):\n",
    "    AC[k] =  m.addVar(obj= - (Aircraft['lease'][k]), lb=0, vtype=GRB.INTEGER)\n",
    "\n",
    "m.update()\n",
    "m.setObjective(m.getObjective(), GRB.MAXIMIZE)\n",
    "\n",
    "\n",
    "\n",
    "for i in airports:\n",
    "    for j in airports:\n",
    "        # C1: Demand constraint\n",
    "        m.addConstr(x[i,j] + w[i,j] <= q[i][j])\n",
    "\n",
    "        # C1*: Transfer pax constraint (also demand-related)\n",
    "        m.addConstr(w[i,j] <= q[i][j] * g[i] * g[j])\n",
    "\n",
    "        # C2: Capacity constraint\n",
    "        m.addConstr(x[i,j] + quicksum(w[i,m] for m in range(len(demand))) * (1 - g[j]) + quicksum(w[m,j] for m in range(len(demand))) * (1 - g[i])\n",
    "                    <= quicksum(z[i,j,k] * floor(Aircraft['seats'][k] * LF) for k in range(num_ac_types)))\n",
    "\n",
    "        # C5: Range constraint\n",
    "        for k in range(num_ac_types):\n",
    "            m.addConstr(z[i,j,k] <= a[i,j,k])\n",
    "\n",
    "        # \"C6\": Runway length constraint (new!)\n",
    "        for k in range(num_ac_types):\n",
    "            m.addConstr(z[i,j,k] <= run[i,j,k])\n",
    "\n",
    "    # C3: In-out constraint\n",
    "    for k in range(num_ac_types):\n",
    "        m.addConstr(quicksum(z[i,j,k] for j in range(len(demand[i]))) == quicksum(z[j,i,k] for j in range(len(demand[i]))))\n",
    "\n",
    "# C4: Time constraint\n",
    "for k in range(num_ac_types):\n",
    "    m.addConstr(quicksum(quicksum((distances[i][j] / Aircraft['speed'][k] + 1.5 * Aircraft['TAT'][k]) * z[i,j,k] for j in hub) for i in range(len(demand)))\n",
    "                + quicksum(quicksum((distances[i][j] / Aircraft['speed'][k] + Aircraft['TAT'][k]) * z[i,j,k] for j in spokes) for i in range(len(demand)))\n",
    "                <= BT * AC[k])\n",
    "\n",
    "m.update()\n",
    "\n",
    "m.optimize()\n",
    "m.write(\"testout.sol\")\n",
    "status = m.status\n",
    "\n",
    "\n",
    "if status == GRB.Status.UNBOUNDED:\n",
    "    print('The model cannot be solved because it is unbounded')\n",
    "\n",
    "elif status == GRB.Status.OPTIMAL or True:\n",
    "    f_objective = m.objVal\n",
    "    print('***** RESULTS ******')\n",
    "    print('\\nObjective Function Value: \\t %g' % f_objective)\n",
    "\n",
    "elif status != GRB.Status.INF_OR_UNBD and status != GRB.Status.INFEASIBLE:\n",
    "    print('Optimization was stopped with status %d' % status)"
   ]
  },
  {
   "cell_type": "markdown",
   "id": "d4951707-b7ab-4293-9e1e-a1d17c183166",
   "metadata": {},
   "source": [
    "## Printing solutions."
   ]
  },
  {
   "cell_type": "code",
   "execution_count": null,
   "id": "0cc59953-881b-465d-b511-2647c41b9812",
   "metadata": {},
   "outputs": [],
   "source": [
    "\n",
    "print()\n",
    "print(\"Frequencies:----------------------------------\")\n",
    "print()\n",
    "for i in airports:\n",
    "    for j in airports:\n",
    "        for k in range(num_ac_types):\n",
    "            if z[i,j,k].X >0:\n",
    "                print(Airports[i], ' to ', Airports[j], z[i,j,k].X)"
   ]
  },
  {
   "cell_type": "markdown",
   "id": "997026f8-dd3a-4872-aa8f-00d00d56475e",
   "metadata": {},
   "source": [
    "## Excel with the output."
   ]
  },
  {
   "cell_type": "code",
   "execution_count": null,
   "id": "60a5e706-147d-4d1e-80ab-a67ed364197c",
   "metadata": {},
   "outputs": [],
   "source": [
    "wb = Workbook()\n",
    "overview = wb.add_sheet('Overview', cell_overwrite_ok = True)\n",
    "sheet_x = wb.add_sheet('x', cell_overwrite_ok = True)\n",
    "sheet_w = wb.add_sheet('w', cell_overwrite_ok = True)\n",
    "for k in range(num_ac_types):\n",
    "    locals()['sheet_{0}'.format(k)] = wb.add_sheet('AC %s' %(k+1), cell_overwrite_ok = True)\n",
    "\n",
    "# Writing overview\n",
    "overview.write(0, 0, \"Overview\")\n",
    "overview.write(1, 0, \"profit [EUR/week]\")\n",
    "overview.write(2, 0, \"gap [%]\")\n",
    "overview.write(1, 1, m.objVal)\n",
    "overview.write(2, 1, m.MIPgap * 100)\n",
    "\n",
    "for k in range(num_ac_types):\n",
    "    overview.write(3 + k, 0, 'Aircraft %s' % str(k+1))\n",
    "    overview.write(3 + k, 1, AC[k].x)\n",
    "\n",
    "# Writing results in the Excel file 'Model_1B_results.xls'\n",
    "sheet_x.write(0, 0, 'x[i,j]')\n",
    "sheet_w.write(0, 0, 'w[i,j]')\n",
    "\n",
    "for k in range(num_ac_types):\n",
    "    locals()['sheet_{0}'.format(k)].write(0, 0, 'aircraft %s' %(k+1))\n",
    "\n",
    "for i in range(len(demand)):\n",
    "    sheet_x.write(i + 1, 0, Airports[i])\n",
    "    sheet_w.write(i + 1, 0, Airports[i])\n",
    "\n",
    "    for k in range(num_ac_types):\n",
    "        locals()['sheet_{0}'.format(k)].write(i+1, 0, Airports[i])\n",
    "\n",
    "    for j in range(len(demand[i])):\n",
    "        sheet_x.write(0, j + 1, Airports[j])\n",
    "        sheet_w.write(0, j + 1, Airports[j])\n",
    "\n",
    "        sheet_x.write(i + 1, j + 1, x[i, j].x)\n",
    "        sheet_w.write(i + 1, j + 1, w[i, j].x)\n",
    "\n",
    "        for k in range(num_ac_types):\n",
    "            locals()['sheet_{0}'.format(k)].write(0, j+1, Airports[j])\n",
    "            locals()['sheet_{0}'.format(k)].write(i+1, j+1, z[i,j,k].x)\n",
    "\n",
    "# Saving the Excel file\n",
    "wb.save('Assignment1_Problem1_results.xls')"
   ]
  }
 ],
 "metadata": {
  "kernelspec": {
   "display_name": "Python 3 (ipykernel)",
   "language": "python",
   "name": "python3"
  },
  "language_info": {
   "codemirror_mode": {
    "name": "ipython",
    "version": 3
   },
   "file_extension": ".py",
   "mimetype": "text/x-python",
   "name": "python",
   "nbconvert_exporter": "python",
   "pygments_lexer": "ipython3",
   "version": "3.9.18"
  }
 },
 "nbformat": 4,
 "nbformat_minor": 5
}
