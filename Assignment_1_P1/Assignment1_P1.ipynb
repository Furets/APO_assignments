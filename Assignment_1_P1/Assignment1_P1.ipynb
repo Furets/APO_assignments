{
 "cells": [
  {
   "cell_type": "code",
   "execution_count": 14,
   "id": "3d834f64",
   "metadata": {
    "ExecuteTime": {
     "end_time": "2023-12-05T13:16:35.721306Z",
     "start_time": "2023-12-05T13:16:35.716985Z"
    }
   },
   "outputs": [],
   "source": [
    "from gurobipy import *\n",
    "from math import *\n",
    "from math import floor\n",
    "import numpy as np\n",
    "import pandas as pd\n",
    "import timeit\n",
    "import xlwt as xlwt\n",
    "from xlwt import Workbook"
   ]
  },
  {
   "cell_type": "code",
   "execution_count": 2,
   "id": "435d673f",
   "metadata": {
    "ExecuteTime": {
     "end_time": "2023-12-05T13:14:03.789432Z",
     "start_time": "2023-12-05T13:14:03.784015Z"
    }
   },
   "outputs": [],
   "source": [
    "num_ac_types = 3 # Number of aircraft types\n",
    "LF = 0.8 # Load factor\n",
    "BT = 10 * 7 # Block time [h/week] - average utilisation time (same for all aircraft types k)\n",
    "f = 1.42 # Fuel cost [USD/gallon]"
   ]
  },
  {
   "cell_type": "code",
   "execution_count": 3,
   "id": "734cacdd",
   "metadata": {
    "ExecuteTime": {
     "end_time": "2023-12-05T13:14:04.858512Z",
     "start_time": "2023-12-05T13:14:04.846709Z"
    }
   },
   "outputs": [],
   "source": [
    "data_demand = pd.read_csv('Group_6_Demand.csv')\n",
    "q = np.array(data_demand)[::,1::]  # Demand (matrix) between airports i and j\n",
    "demand = q"
   ]
  },
  {
   "cell_type": "code",
   "execution_count": 4,
   "id": "9d8aabce",
   "metadata": {
    "ExecuteTime": {
     "end_time": "2023-12-05T13:14:05.747610Z",
     "start_time": "2023-12-05T13:14:05.743196Z"
    }
   },
   "outputs": [],
   "source": [
    "airports_data = pd.read_csv('Group_6_Airport_info.csv')\n",
    "Airports = airports_data['ICAO Code'].tolist()\n",
    "airports = range(len(Airports))\n",
    "runway_lengths = airports_data['Runway (m)'].tolist()"
   ]
  },
  {
   "cell_type": "code",
   "execution_count": 5,
   "id": "319042e3-cad8-409d-9964-ac07ef9531d0",
   "metadata": {
    "ExecuteTime": {
     "end_time": "2023-12-05T13:14:06.636846Z",
     "start_time": "2023-12-05T13:14:06.620140Z"
    }
   },
   "outputs": [],
   "source": [
    "# Creating matrix with max runway length between origin and destination\n",
    "runways = np.zeros((len(runway_lengths), len(runway_lengths)))\n",
    "for origin in range(len(runway_lengths)):\n",
    "    for destination in range(len(runway_lengths)):\n",
    "        if origin != destination:\n",
    "            if runway_lengths[origin] < runway_lengths[destination]:\n",
    "                runways[origin][destination] = runway_lengths[origin]\n",
    "            else:\n",
    "                runways[origin][destination] = runway_lengths[destination]"
   ]
  },
  {
   "cell_type": "code",
   "execution_count": 6,
   "id": "127e669b",
   "metadata": {
    "ExecuteTime": {
     "end_time": "2023-12-05T13:14:07.587611Z",
     "start_time": "2023-12-05T13:14:07.519561Z"
    }
   },
   "outputs": [],
   "source": [
    "# Extracting the distance between airports i and j from Excel file 'results.xlsx'\n",
    "\n",
    "data_distances = pd.read_csv('Group_6_Distances.csv')\n",
    "distances = np.array(data_distances)[::,1::]  # Distances (matrix) between airports i and j"
   ]
  },
  {
   "cell_type": "code",
   "execution_count": 7,
   "id": "08696b1d",
   "metadata": {
    "ExecuteTime": {
     "end_time": "2023-12-05T13:14:08.276566Z",
     "start_time": "2023-12-05T13:14:08.272176Z"
    }
   },
   "outputs": [
    {
     "name": "stdout",
     "output_type": "stream",
     "text": [
      "{'speed': [820, 850, 870], 'seats': [70, 150, 320], 'TAT': [35, 45, 60], 'ac_range': [3300, 6300, 12000], 'runway': [1600, 1800, 2600], 'lease': [34000, 70000, 180000], 'op_cost': [600, 1250, 2000], 'time_cost_param': [775, 1400, 2800], 'fuel_cost_param': [2.0, 3.75, 7.0]}\n"
     ]
    }
   ],
   "source": [
    "# Aircraft parameters\n",
    "ac_param = pd.read_csv('Aircraft_info.csv')\n",
    "speed = ac_param['Speed'].tolist()\n",
    "seats = ac_param['Seats'].tolist()\n",
    "TAT = ac_param['TAT'].tolist()\n",
    "ac_range = ac_param['Range'].tolist()\n",
    "runway = ac_param['Runway'].tolist()\n",
    "lease = ac_param['Lease_c'].tolist()\n",
    "op_cost = ac_param['Operating_c'].tolist()\n",
    "time_cost_param = ac_param['Time_c'].tolist()\n",
    "fuel_cost_param = ac_param['Fuel_c'].tolist()\n",
    "\n",
    "keys = ['speed', 'seats', 'TAT', 'ac_range', 'runway', 'lease', 'op_cost', 'time_cost_param', 'fuel_cost_param']\n",
    "values = [speed, seats, TAT, ac_range, runway, lease, op_cost, time_cost_param, fuel_cost_param]\n",
    "Aircraft = dict(zip(keys, values))\n",
    "print(Aircraft)"
   ]
  },
  {
   "cell_type": "code",
   "execution_count": 8,
   "id": "e9832bda",
   "metadata": {
    "ExecuteTime": {
     "end_time": "2023-12-05T13:14:09.333737Z",
     "start_time": "2023-12-05T13:14:09.318330Z"
    }
   },
   "outputs": [],
   "source": [
    "# Create a new list for 'TAT' converted to hours\n",
    "converted_TAT = [tat / 60 for tat in Aircraft['TAT']]\n",
    "\n",
    "# Update the 'TAT' value in the Aircraft dictionary with the converted values\n",
    "Aircraft['TAT'] = converted_TAT\n",
    "\n",
    "\n",
    "# Yield between airports i and j - Revenue per RPK flown\n",
    "Yield = np.zeros((len(Airports),len(Airports)))\n",
    "for i in range(len(distances)):\n",
    "    for j in range(len(distances)):\n",
    "        if i != j:\n",
    "            Yield[i][j] = 5.9 * distances[i][j] ** (-0.76) + 0.043"
   ]
  },
  {
   "cell_type": "code",
   "execution_count": 9,
   "id": "43122c16",
   "metadata": {
    "ExecuteTime": {
     "end_time": "2023-12-05T13:14:10.299612Z",
     "start_time": "2023-12-05T13:14:10.278235Z"
    }
   },
   "outputs": [],
   "source": [
    "# Range matrix\n",
    "a = {}\n",
    "for k in range(num_ac_types):\n",
    "    for i in range(len(distances)):\n",
    "        for j in range(len(distances[i])):\n",
    "            a[i,j,k] = 0\n",
    "            if distances[i][j] <= Aircraft['ac_range'][k] :\n",
    "                a[i,j,k] = 10000\n"
   ]
  },
  {
   "cell_type": "code",
   "execution_count": 10,
   "id": "cfb4f830",
   "metadata": {
    "ExecuteTime": {
     "end_time": "2023-12-05T13:14:11.019365Z",
     "start_time": "2023-12-05T13:14:10.999478Z"
    }
   },
   "outputs": [],
   "source": [
    "# Runway matrix\n",
    "run = {}\n",
    "for k in range(num_ac_types):\n",
    "    for i in range(len(runways)):\n",
    "        for j in range(len(runways[i])):\n",
    "            run[i,j,k] = 0\n",
    "            if runways[i][j] >= Aircraft['runway'][k] :\n",
    "                run[i,j,k] = 10000"
   ]
  },
  {
   "cell_type": "markdown",
   "id": "40373ab8-df75-4e19-b446-15c5ae7b2f5e",
   "metadata": {},
   "source": [
    "## Optimziation model."
   ]
  },
  {
   "cell_type": "code",
   "execution_count": 15,
   "id": "5008a916",
   "metadata": {
    "ExecuteTime": {
     "end_time": "2023-12-05T13:16:47.454129Z",
     "start_time": "2023-12-05T13:16:39.964173Z"
    }
   },
   "outputs": [
    {
     "name": "stdout",
     "output_type": "stream",
     "text": [
      "Gurobi Optimizer version 10.0.3 build v10.0.3rc0 (mac64[arm])\n",
      "\n",
      "CPU model: Apple M1 Pro\n",
      "Thread count: 8 physical cores, 8 logical processors, using up to 8 threads\n",
      "\n",
      "Academic license 2447081 - for non-commercial use only - registered to yf___@tudelft.net\n",
      "Optimize a model with 9903 rows, 5448 columns and 25940 nonzeros\n",
      "Model fingerprint: 0xf6798c41\n",
      "Variable types: 0 continuous, 5448 integer (0 binary)\n",
      "Coefficient statistics:\n",
      "  Matrix range     [6e-01, 3e+02]\n",
      "  Objective range  [2e+01, 2e+05]\n",
      "  Bounds range     [0e+00, 0e+00]\n",
      "  RHS range        [2e+00, 1e+04]\n",
      "Found heuristic solution: objective -0.0000000\n",
      "Presolve removed 8062 rows and 1832 columns\n",
      "Presolve time: 0.02s\n",
      "Presolved: 1841 rows, 3616 columns, 11494 nonzeros\n",
      "Variable types: 0 continuous, 3616 integer (1 binary)\n",
      "\n",
      "Root relaxation: objective 3.089223e+05, 2159 iterations, 0.06 seconds (0.07 work units)\n",
      "\n",
      "    Nodes    |    Current Node    |     Objective Bounds      |     Work\n",
      " Expl Unexpl |  Obj  Depth IntInf | Incumbent    BestBd   Gap | It/Node Time\n",
      "\n",
      "     0     0 308922.332    0  128   -0.00000 308922.332      -     -    0s\n",
      "     0     0 297822.832    0  109   -0.00000 297822.832      -     -    0s\n",
      "H    0     0                    209375.98036 297822.832  42.2%     -    0s\n",
      "H    0     0                    267153.76428 297822.832  11.5%     -    0s\n",
      "     0     0 296889.098    0  113 267153.764 296889.098  11.1%     -    0s\n",
      "     0     0 296889.098    0  107 267153.764 296889.098  11.1%     -    0s\n",
      "     0     0 293431.813    0  136 267153.764 293431.813  9.84%     -    0s\n",
      "H    0     0                    267165.69723 293431.813  9.83%     -    0s\n",
      "     0     0 293431.813    0  126 267165.697 293431.813  9.83%     -    0s\n",
      "     0     0 293431.813    0  119 267165.697 293431.813  9.83%     -    0s\n",
      "H    0     0                    273165.56171 293431.813  7.42%     -    0s\n",
      "     0     0 293431.813    0  114 273165.562 293431.813  7.42%     -    0s\n",
      "     0     0 293431.813    0  119 273165.562 293431.813  7.42%     -    0s\n",
      "     0     0 293431.813    0  120 273165.562 293431.813  7.42%     -    0s\n",
      "     0     0 292923.109    0  124 273165.562 292923.109  7.23%     -    0s\n",
      "     0     0 292922.719    0  114 273165.562 292922.719  7.23%     -    0s\n",
      "H    0     0                    273492.42974 292922.719  7.10%     -    0s\n",
      "     0     0 292645.131    0  109 273492.430 292645.131  7.00%     -    0s\n",
      "     0     0 292618.603    0  115 273492.430 292618.603  6.99%     -    0s\n",
      "     0     0 292607.765    0  108 273492.430 292607.765  6.99%     -    0s\n",
      "     0     0 292607.744    0  109 273492.430 292607.744  6.99%     -    0s\n",
      "     0     0 292539.732    0   97 273492.430 292539.732  6.96%     -    0s\n",
      "     0     0 292526.446    0   97 273492.430 292526.446  6.96%     -    0s\n",
      "     0     0 292504.522    0  112 273492.430 292504.522  6.95%     -    0s\n",
      "H    0     0                    274326.77994 292504.522  6.63%     -    0s\n",
      "     0     0 292504.229    0  114 274326.780 292504.229  6.63%     -    0s\n",
      "     0     0 292499.988    0  115 274326.780 292499.988  6.62%     -    0s\n",
      "     0     0 292499.988    0  115 274326.780 292499.988  6.62%     -    0s\n",
      "     0     0 292499.988    0  124 274326.780 292499.988  6.62%     -    0s\n",
      "H    0     0                    274362.56267 292499.988  6.61%     -    0s\n",
      "H    0     0                    274375.14279 292499.988  6.61%     -    0s\n",
      "     0     0 292499.988    0  138 274375.143 292499.988  6.61%     -    0s\n",
      "H    0     0                    276447.04303 292499.988  5.81%     -    0s\n",
      "     0     0 292499.988    0   94 276447.043 292499.988  5.81%     -    1s\n",
      "     0     0 292499.988    0  100 276447.043 292499.988  5.81%     -    1s\n",
      "     0     0 292499.988    0   86 276447.043 292499.988  5.81%     -    1s\n",
      "     0     0 292499.988    0  111 276447.043 292499.988  5.81%     -    1s\n",
      "     0     0 292451.935    0  105 276447.043 292451.935  5.79%     -    1s\n",
      "H    0     0                    276454.27764 292451.935  5.79%     -    1s\n",
      "H    0     0                    276624.95265 292451.935  5.72%     -    1s\n",
      "     0     0 292444.639    0  110 276624.953 292444.639  5.72%     -    1s\n",
      "     0     0 292423.192    0  118 276624.953 292423.192  5.71%     -    1s\n",
      "     0     0 292423.192    0  118 276624.953 292423.192  5.71%     -    1s\n",
      "     0     2 292423.192    0  118 276624.953 292423.192  5.71%     -    1s\n",
      "H   33    40                    277032.85558 291704.914  5.30%  42.3    1s\n",
      "H   36    40                    277235.70672 291704.914  5.22%  40.9    1s\n",
      "H  118   125                    279828.07373 291704.914  4.24%  30.2    1s\n",
      "H  119   125                    282976.38330 291704.914  3.08%  30.1    1s\n",
      "H  121   125                    287430.52708 291704.914  1.49%  29.7    1s\n",
      "H  122   125                    288517.25666 291704.914  1.10%  29.5    1s\n",
      "H  211   170                    288558.16101 291704.914  1.09%  22.6    1s\n",
      "H  221   170                    288574.31622 291704.914  1.08%  22.4    1s\n",
      "H 1282   907                    288588.54887 290929.369  0.81%  15.6    1s\n",
      "H 1283   901                    288632.20006 290929.369  0.80%  15.6    1s\n",
      "H 1310   901                    288634.92730 290929.369  0.79%  15.5    1s\n",
      "H 1471   890                    288942.75293 290929.369  0.69%  14.8    1s\n",
      "H 1473   845                    288983.13161 290929.369  0.67%  14.8    2s\n",
      "H 1507   826                    288997.01494 290929.369  0.67%  15.5    3s\n",
      "H 1975   895                    288998.17153 290929.369  0.67%  16.1    3s\n",
      "H 2026   845                    289067.50570 290929.369  0.64%  16.0    4s\n",
      "* 4791  2037             141    289067.55971 290642.792  0.54%  13.1    4s\n",
      "* 6005  2402             158    289311.90648 290540.667  0.42%  12.6    4s\n",
      "  6239  2522 290368.614   53   74 289311.906 290513.554  0.42%  12.5    5s\n",
      "H 7733  2338                    289444.52290 290372.489  0.32%  12.7    5s\n",
      "H12391  2930                    289600.98456 289929.905  0.11%  13.0    6s\n",
      "H15067  2143                    289719.97843 289886.345  0.06%  12.8    6s\n",
      "H15673  1860                    289740.25717 289876.521  0.05%  12.8    6s\n",
      "\n",
      "Cutting planes:\n",
      "  Gomory: 20\n",
      "  Lift-and-project: 7\n",
      "  Implied bound: 6\n",
      "  MIR: 262\n",
      "  StrongCG: 6\n",
      "\n",
      "Explored 19093 nodes (248048 simplex iterations) in 7.34 seconds (6.69 work units)\n",
      "Thread count was 8 (of 8 available processors)\n",
      "\n",
      "Solution count 10: 289740 289720 289601 ... 288983\n",
      "\n",
      "Optimal solution found (tolerance 1.00e-04)\n",
      "Best objective 2.897402571682e+05, best bound 2.897578880915e+05, gap 0.0061%\n",
      "***** RESULTS ******\n",
      "\n",
      "Objective Function Value: \t 289740\n"
     ]
    }
   ],
   "source": [
    "m = Model('model')\n",
    "\n",
    "# Decision variables\n",
    "x = {} # direct pax flow from airport i to airport j\n",
    "w = {} # pax flow from airport i to airport j with transfer at hub\n",
    "z = {} # number of flights (frequency) from airport i to airport j\n",
    "AC = {} # number of aircraft of type k\n",
    "\n",
    "# Setting hub in Göteborg\n",
    "g = np.ones(34) # 34 airports\n",
    "g[0] = 0 # Stockholm (ESGG) is the hub\n",
    "\n",
    "# Creating dictionaries of hub & spokes\n",
    "hub = {}\n",
    "spokes = {}\n",
    "for j in range(len(q)):\n",
    "    if g[j] == 0: # Hub is the first one in the list\n",
    "        hub[j] = j\n",
    "    else:\n",
    "        spokes[j] = j\n",
    "\n",
    "for i in airports:\n",
    "    for j in airports:\n",
    "        x[i,j] = m.addVar(obj = Yield[i][j] * distances[i][j], lb=0, vtype=GRB.INTEGER)\n",
    "        w[i,j] = m.addVar(obj = 0.9 * Yield[i][j] * distances[i][j], lb=0, vtype=GRB.INTEGER) # 10% lower revenue in case of transfer at hub\n",
    "\n",
    "        for k in range(num_ac_types):\n",
    "            C_O_ac = Aircraft['op_cost'][k]\n",
    "            C_T_ac = Aircraft['time_cost_param'][k] * distances[i][j] / Aircraft['speed'][k]\n",
    "            C_F_ac = Aircraft['fuel_cost_param'][k] * f * distances[i][j] / 1.5\n",
    "\n",
    "            if g[i] == 0 or g[j] == 0: # if origin/destination is the hub\n",
    "                z[i,j,k] = m.addVar(obj= -0.7 * (C_O_ac + C_T_ac + C_F_ac), lb=0, vtype=GRB.INTEGER) # 30% lower operating costs when hub is origin/destination\n",
    "            else:\n",
    "                z[i,j,k] = m.addVar(obj= - (C_O_ac + C_T_ac + C_F_ac), lb=0, vtype=GRB.INTEGER)\n",
    "\n",
    "for k in range(num_ac_types):\n",
    "    AC[k] =  m.addVar(obj= - (Aircraft['lease'][k]), lb=0, vtype=GRB.INTEGER)\n",
    "\n",
    "m.update()\n",
    "m.setObjective(m.getObjective(), GRB.MAXIMIZE)\n",
    "\n",
    "\n",
    "\n",
    "for i in airports:\n",
    "    for j in airports:\n",
    "        # C1: Demand constraint\n",
    "        m.addConstr(x[i,j] + w[i,j] <= q[i][j])\n",
    "\n",
    "        # C1*: Transfer pax constraint (also demand-related)\n",
    "        m.addConstr(w[i,j] <= q[i][j] * g[i] * g[j])\n",
    "\n",
    "        # C2: Capacity constraint\n",
    "        m.addConstr(x[i,j] + quicksum(w[i,m] for m in range(len(demand))) * (1 - g[j]) + quicksum(w[m,j] for m in range(len(demand))) * (1 - g[i])\n",
    "                    <= quicksum(z[i,j,k] * floor(Aircraft['seats'][k] * LF) for k in range(num_ac_types)))\n",
    "\n",
    "        # C5: Range constraint\n",
    "        for k in range(num_ac_types):\n",
    "            m.addConstr(z[i,j,k] <= a[i,j,k])\n",
    "\n",
    "        # \"C6\": Runway length constraint (new!)\n",
    "        for k in range(num_ac_types):\n",
    "            m.addConstr(z[i,j,k] <= run[i,j,k])\n",
    "\n",
    "    # C3: In-out constraint\n",
    "    for k in range(num_ac_types):\n",
    "        m.addConstr(quicksum(z[i,j,k] for j in range(len(demand[i]))) == quicksum(z[j,i,k] for j in range(len(demand[i]))))\n",
    "\n",
    "# C4: Time constraint\n",
    "for k in range(num_ac_types):\n",
    "    m.addConstr(quicksum(quicksum((distances[i][j] / Aircraft['speed'][k] + 1.5 * Aircraft['TAT'][k]) * z[i,j,k] for j in hub) for i in range(len(demand)))\n",
    "                + quicksum(quicksum((distances[i][j] / Aircraft['speed'][k] + Aircraft['TAT'][k]) * z[i,j,k] for j in spokes) for i in range(len(demand)))\n",
    "                <= BT * AC[k])\n",
    "\n",
    "m.update()\n",
    "\n",
    "m.optimize()\n",
    "m.write(\"testout.sol\")\n",
    "status = m.status\n",
    "\n",
    "\n",
    "if status == GRB.Status.UNBOUNDED:\n",
    "    print('The model cannot be solved because it is unbounded')\n",
    "\n",
    "elif status == GRB.Status.OPTIMAL or True:\n",
    "    f_objective = m.objVal\n",
    "    print('***** RESULTS ******')\n",
    "    print('\\nObjective Function Value: \\t %g' % f_objective)\n",
    "\n",
    "elif status != GRB.Status.INF_OR_UNBD and status != GRB.Status.INFEASIBLE:\n",
    "    print('Optimization was stopped with status %d' % status)"
   ]
  },
  {
   "cell_type": "markdown",
   "id": "d4951707-b7ab-4293-9e1e-a1d17c183166",
   "metadata": {},
   "source": [
    "## Printing solutions."
   ]
  },
  {
   "cell_type": "code",
   "execution_count": 16,
   "id": "0cc59953-881b-465d-b511-2647c41b9812",
   "metadata": {
    "ExecuteTime": {
     "end_time": "2023-12-05T13:16:51.768953Z",
     "start_time": "2023-12-05T13:16:51.761175Z"
    }
   },
   "outputs": [
    {
     "name": "stdout",
     "output_type": "stream",
     "text": [
      "\n",
      "Frequencies:----------------------------------\n",
      "\n",
      "LIMC  to  EDDF 1.0\n",
      "LIMC  to  EDDF 4.0\n",
      "LIMC  to  RJAA 1.0\n",
      "LIMC  to  KJFK 1.0\n",
      "LIMC  to  SBGL 3.0\n",
      "LIMC  to  LEMD 3.0\n",
      "LIMC  to  LTFM 1.0\n",
      "LIMC  to  SAEZ 5.0\n",
      "LIMC  to  ZSPD 2.0\n",
      "LIMC  to  EDDM 12.0\n",
      "LIMC  to  EDDM 2.0\n",
      "LIMC  to  LFPG 6.0\n",
      "LIMC  to  VIDP 2.0\n",
      "LIMC  to  OMDB 2.0\n",
      "LIMC  to  EDDT 1.0\n",
      "LIMC  to  EDDT 2.0\n",
      "LIMC  to  MMMX 3.0\n",
      "LIMC  to  EFHK 1.0\n",
      "LIMC  to  EBBR 1.0\n",
      "LIMC  to  EGPH 3.0\n",
      "LIMC  to  LKPR 2.0\n",
      "LIMC  to  FACT 5.0\n",
      "LIMC  to  LGAV 4.0\n",
      "LIMC  to  BIKF 3.0\n",
      "LIMC  to  ESSA 2.0\n",
      "LIMC  to  EIDW 1.0\n",
      "LIMC  to  LPPT 4.0\n",
      "LIMC  to  EETN 2.0\n",
      "LIMC  to  LFQQ 1.0\n",
      "LIMC  to  EFRO 1.0\n",
      "LIMC  to  LDZA 3.0\n",
      "LIMC  to  EHEH 2.0\n",
      "EDDF  to  LIMC 4.0\n",
      "EDDF  to  EDDM 1.0\n",
      "EDDF  to  EDDM 1.0\n",
      "EDDF  to  LFPG 2.0\n",
      "EDDF  to  EDDT 1.0\n",
      "EDDF  to  EGPH 4.0\n",
      "EDDF  to  LKPR 1.0\n",
      "EDDF  to  LFQQ 1.0\n",
      "EDDF  to  LDZA 1.0\n",
      "EDDF  to  EHEH 1.0\n",
      "RJAA  to  LIMC 1.0\n",
      "KJFK  to  LIMC 1.0\n",
      "SBGL  to  LIMC 3.0\n",
      "LEMD  to  LIMC 3.0\n",
      "LEMD  to  LPPT 1.0\n",
      "LTFM  to  LIMC 1.0\n",
      "SAEZ  to  LIMC 5.0\n",
      "ZSPD  to  LIMC 2.0\n",
      "EDDM  to  LIMC 12.0\n",
      "EDDM  to  LIMC 2.0\n",
      "EDDM  to  EDDF 1.0\n",
      "EDDM  to  EDDF 1.0\n",
      "EDDM  to  LFPG 1.0\n",
      "EDDM  to  EDDT 1.0\n",
      "EDDM  to  EGPH 1.0\n",
      "EDDM  to  LKPR 1.0\n",
      "EDDM  to  LFQQ 1.0\n",
      "EDDM  to  LDZA 1.0\n",
      "EDDM  to  EHEH 1.0\n",
      "LFPG  to  LIMC 1.0\n",
      "LFPG  to  LIMC 6.0\n",
      "LFPG  to  EDDF 2.0\n",
      "LFPG  to  EDDM 1.0\n",
      "LFPG  to  EGPH 2.0\n",
      "LFPG  to  LPPT 1.0\n",
      "LFPG  to  LFQQ 1.0\n",
      "LFPG  to  EHEH 1.0\n",
      "VIDP  to  LIMC 2.0\n",
      "OMDB  to  LIMC 2.0\n",
      "EDDT  to  LIMC 3.0\n",
      "EDDT  to  EDDF 1.0\n",
      "EDDT  to  EDDM 1.0\n",
      "EDDT  to  LFPG 1.0\n",
      "MMMX  to  LIMC 3.0\n",
      "EFHK  to  LIMC 1.0\n",
      "EBBR  to  LIMC 1.0\n",
      "EGPH  to  LIMC 3.0\n",
      "EGPH  to  EDDF 4.0\n",
      "EGPH  to  EDDM 1.0\n",
      "EGPH  to  LFPG 2.0\n",
      "EGPH  to  EDDT 1.0\n",
      "EGPH  to  BIKF 1.0\n",
      "EGPH  to  ESSA 1.0\n",
      "EGPH  to  EIDW 1.0\n",
      "EGPH  to  LFQQ 1.0\n",
      "EGPH  to  EHEH 1.0\n",
      "LKPR  to  LIMC 2.0\n",
      "LKPR  to  EDDF 1.0\n",
      "LKPR  to  EDDM 1.0\n",
      "FACT  to  LIMC 5.0\n",
      "LGAV  to  LIMC 4.0\n",
      "BIKF  to  LIMC 3.0\n",
      "BIKF  to  EGPH 1.0\n",
      "ESSA  to  LIMC 2.0\n",
      "ESSA  to  EGPH 1.0\n",
      "EIDW  to  LIMC 1.0\n",
      "EIDW  to  EGPH 1.0\n",
      "LPPT  to  LIMC 4.0\n",
      "LPPT  to  LEMD 1.0\n",
      "LPPT  to  LFPG 1.0\n",
      "EETN  to  LIMC 2.0\n",
      "LFQQ  to  LIMC 1.0\n",
      "LFQQ  to  EDDF 1.0\n",
      "LFQQ  to  EDDM 1.0\n",
      "LFQQ  to  LFPG 1.0\n",
      "LFQQ  to  EGPH 1.0\n",
      "LFQQ  to  EHEH 1.0\n",
      "EFRO  to  LIMC 1.0\n",
      "LDZA  to  LIMC 1.0\n",
      "LDZA  to  LIMC 2.0\n",
      "LDZA  to  EDDM 1.0\n",
      "LDZA  to  EGPH 1.0\n",
      "EHEH  to  LIMC 2.0\n",
      "EHEH  to  EDDF 1.0\n",
      "EHEH  to  EDDM 1.0\n",
      "EHEH  to  LFPG 1.0\n",
      "EHEH  to  EGPH 1.0\n",
      "EHEH  to  LFQQ 1.0\n"
     ]
    }
   ],
   "source": [
    "\n",
    "print()\n",
    "print(\"Frequencies:----------------------------------\")\n",
    "print()\n",
    "for i in airports:\n",
    "    for j in airports:\n",
    "        for k in range(num_ac_types):\n",
    "            if z[i,j,k].X >0:\n",
    "                print(Airports[i], ' to ', Airports[j], z[i,j,k].X)"
   ]
  },
  {
   "cell_type": "markdown",
   "id": "997026f8-dd3a-4872-aa8f-00d00d56475e",
   "metadata": {},
   "source": [
    "## Excel with the output."
   ]
  },
  {
   "cell_type": "code",
   "execution_count": 17,
   "id": "60a5e706-147d-4d1e-80ab-a67ed364197c",
   "metadata": {
    "ExecuteTime": {
     "end_time": "2023-12-05T13:16:53.062394Z",
     "start_time": "2023-12-05T13:16:53.018450Z"
    }
   },
   "outputs": [],
   "source": [
    "wb = Workbook()\n",
    "overview = wb.add_sheet('Overview', cell_overwrite_ok = True)\n",
    "sheet_x = wb.add_sheet('x', cell_overwrite_ok = True)\n",
    "sheet_w = wb.add_sheet('w', cell_overwrite_ok = True)\n",
    "for k in range(num_ac_types):\n",
    "    locals()['sheet_{0}'.format(k)] = wb.add_sheet('AC %s' %(k+1), cell_overwrite_ok = True)\n",
    "\n",
    "# Writing overview\n",
    "overview.write(0, 0, \"Overview\")\n",
    "overview.write(1, 0, \"profit [EUR/week]\")\n",
    "overview.write(2, 0, \"gap [%]\")\n",
    "overview.write(1, 1, m.objVal)\n",
    "overview.write(2, 1, m.MIPgap * 100)\n",
    "\n",
    "for k in range(num_ac_types):\n",
    "    overview.write(3 + k, 0, 'Aircraft %s' % str(k+1))\n",
    "    overview.write(3 + k, 1, AC[k].x)\n",
    "\n",
    "# Writing results in the Excel file 'Model_1B_results.xls'\n",
    "sheet_x.write(0, 0, 'x[i,j]')\n",
    "sheet_w.write(0, 0, 'w[i,j]')\n",
    "\n",
    "for k in range(num_ac_types):\n",
    "    locals()['sheet_{0}'.format(k)].write(0, 0, 'aircraft %s' %(k+1))\n",
    "\n",
    "for i in range(len(demand)):\n",
    "    sheet_x.write(i + 1, 0, Airports[i])\n",
    "    sheet_w.write(i + 1, 0, Airports[i])\n",
    "\n",
    "    for k in range(num_ac_types):\n",
    "        locals()['sheet_{0}'.format(k)].write(i+1, 0, Airports[i])\n",
    "\n",
    "    for j in range(len(demand[i])):\n",
    "        sheet_x.write(0, j + 1, Airports[j])\n",
    "        sheet_w.write(0, j + 1, Airports[j])\n",
    "\n",
    "        sheet_x.write(i + 1, j + 1, x[i, j].x)\n",
    "        sheet_w.write(i + 1, j + 1, w[i, j].x)\n",
    "\n",
    "        for k in range(num_ac_types):\n",
    "            locals()['sheet_{0}'.format(k)].write(0, j+1, Airports[j])\n",
    "            locals()['sheet_{0}'.format(k)].write(i+1, j+1, z[i,j,k].x)\n",
    "\n",
    "# Saving the Excel file\n",
    "wb.save('Assignment1_Problem1_results.xls')"
   ]
  },
  {
   "cell_type": "code",
   "execution_count": null,
   "outputs": [],
   "source": [],
   "metadata": {
    "collapsed": false
   }
  }
 ],
 "metadata": {
  "kernelspec": {
   "display_name": "Python 3 (ipykernel)",
   "language": "python",
   "name": "python3"
  },
  "language_info": {
   "codemirror_mode": {
    "name": "ipython",
    "version": 3
   },
   "file_extension": ".py",
   "mimetype": "text/x-python",
   "name": "python",
   "nbconvert_exporter": "python",
   "pygments_lexer": "ipython3",
   "version": "3.9.18"
  }
 },
 "nbformat": 4,
 "nbformat_minor": 5
}
