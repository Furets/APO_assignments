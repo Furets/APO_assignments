{
 "cells": [
  {
   "cell_type": "code",
   "execution_count": 1,
   "id": "75454dfd-1e45-49dd-a8fd-dee357be098d",
   "metadata": {
    "ExecuteTime": {
     "end_time": "2023-12-20T12:12:33.718091Z",
     "start_time": "2023-12-20T12:12:31.610980Z"
    }
   },
   "outputs": [],
   "source": [
    "from gurobipy import *\n",
    "# from math import *\n",
    "# import math\n",
    "import numpy as np\n",
    "import pandas as pd\n",
    "import timeit\n",
    "from xlwt import Workbook"
   ]
  },
  {
   "cell_type": "code",
   "execution_count": 3,
   "id": "db57ad9c-56b7-4827-97c8-62cb0272c0fa",
   "metadata": {
    "ExecuteTime": {
     "end_time": "2023-12-20T12:14:51.048416Z",
     "start_time": "2023-12-20T12:14:50.055853Z"
    }
   },
   "outputs": [],
   "source": [
    "data1 = pd.read_excel('Group_6.xlsx', sheet_name='Flight')\n",
    "data2 = pd.read_excel('Group_6.xlsx', sheet_name='Itinerary')\n",
    "data3 = pd.read_excel('Group_6.xlsx', sheet_name='Recapture Rate')\n",
    "data4 = pd.read_excel('Group_6.xlsx', sheet_name='Aircraft')\n"
   ]
  },
  {
   "cell_type": "code",
   "execution_count": 4,
   "id": "2bd541b0-c728-439b-bc5a-de23ae4ad6a9",
   "metadata": {
    "ExecuteTime": {
     "end_time": "2023-12-20T12:14:52.216001Z",
     "start_time": "2023-12-20T12:14:52.202613Z"
    }
   },
   "outputs": [
    {
     "data": {
      "text/html": [
       "<div>\n",
       "<style scoped>\n",
       "    .dataframe tbody tr th:only-of-type {\n",
       "        vertical-align: middle;\n",
       "    }\n",
       "\n",
       "    .dataframe tbody tr th {\n",
       "        vertical-align: top;\n",
       "    }\n",
       "\n",
       "    .dataframe thead th {\n",
       "        text-align: right;\n",
       "    }\n",
       "</style>\n",
       "<table border=\"1\" class=\"dataframe\">\n",
       "  <thead>\n",
       "    <tr style=\"text-align: right;\">\n",
       "      <th></th>\n",
       "      <th>Flight Number</th>\n",
       "      <th>ORG</th>\n",
       "      <th>DEST</th>\n",
       "      <th>Departure</th>\n",
       "      <th>Arrival</th>\n",
       "      <th>A330</th>\n",
       "      <th>A340</th>\n",
       "      <th>B737</th>\n",
       "      <th>B738</th>\n",
       "    </tr>\n",
       "  </thead>\n",
       "  <tbody>\n",
       "    <tr>\n",
       "      <th>0</th>\n",
       "      <td>AR1132</td>\n",
       "      <td>LIMC</td>\n",
       "      <td>KJFK</td>\n",
       "      <td>23:55:00</td>\n",
       "      <td>11:10:00</td>\n",
       "      <td>19797.633985</td>\n",
       "      <td>24304.697082</td>\n",
       "      <td>1000000.000000</td>\n",
       "      <td>1000000.000000</td>\n",
       "    </tr>\n",
       "    <tr>\n",
       "      <th>1</th>\n",
       "      <td>AR1133</td>\n",
       "      <td>KJFK</td>\n",
       "      <td>LIMC</td>\n",
       "      <td>16:10:00</td>\n",
       "      <td>04:20:00</td>\n",
       "      <td>20186.704183</td>\n",
       "      <td>24878.728342</td>\n",
       "      <td>1000000.000000</td>\n",
       "      <td>1000000.000000</td>\n",
       "    </tr>\n",
       "    <tr>\n",
       "      <th>2</th>\n",
       "      <td>AR1140</td>\n",
       "      <td>LDZA</td>\n",
       "      <td>LTFM</td>\n",
       "      <td>20:05:00</td>\n",
       "      <td>20:50:00</td>\n",
       "      <td>11225.286689</td>\n",
       "      <td>12235.857049</td>\n",
       "      <td>8753.575914</td>\n",
       "      <td>9021.988449</td>\n",
       "    </tr>\n",
       "    <tr>\n",
       "      <th>3</th>\n",
       "      <td>AR1160</td>\n",
       "      <td>LIMC</td>\n",
       "      <td>ZBAA</td>\n",
       "      <td>22:55:00</td>\n",
       "      <td>10:35:00</td>\n",
       "      <td>19976.944094</td>\n",
       "      <td>24569.026366</td>\n",
       "      <td>1000000.000000</td>\n",
       "      <td>1000000.000000</td>\n",
       "    </tr>\n",
       "    <tr>\n",
       "      <th>4</th>\n",
       "      <td>AR1161</td>\n",
       "      <td>ZBAA</td>\n",
       "      <td>LIMC</td>\n",
       "      <td>14:20:00</td>\n",
       "      <td>03:00:00</td>\n",
       "      <td>20390.933229</td>\n",
       "      <td>25180.760278</td>\n",
       "      <td>1000000.000000</td>\n",
       "      <td>1000000.000000</td>\n",
       "    </tr>\n",
       "    <tr>\n",
       "      <th>...</th>\n",
       "      <td>...</td>\n",
       "      <td>...</td>\n",
       "      <td>...</td>\n",
       "      <td>...</td>\n",
       "      <td>...</td>\n",
       "      <td>...</td>\n",
       "      <td>...</td>\n",
       "      <td>...</td>\n",
       "      <td>...</td>\n",
       "    </tr>\n",
       "    <tr>\n",
       "      <th>203</th>\n",
       "      <td>AR1893</td>\n",
       "      <td>BIKF</td>\n",
       "      <td>LIMC</td>\n",
       "      <td>19:05:00</td>\n",
       "      <td>21:31:00</td>\n",
       "      <td>13990.714954</td>\n",
       "      <td>15984.767576</td>\n",
       "      <td>11514.338562</td>\n",
       "      <td>11401.743746</td>\n",
       "    </tr>\n",
       "    <tr>\n",
       "      <th>204</th>\n",
       "      <td>AR1910</td>\n",
       "      <td>LIMC</td>\n",
       "      <td>SBGL</td>\n",
       "      <td>21:30:00</td>\n",
       "      <td>01:20:00</td>\n",
       "      <td>15402.914350</td>\n",
       "      <td>17959.826122</td>\n",
       "      <td>13038.003598</td>\n",
       "      <td>12685.016269</td>\n",
       "    </tr>\n",
       "    <tr>\n",
       "      <th>205</th>\n",
       "      <td>AR1911</td>\n",
       "      <td>SBGL</td>\n",
       "      <td>LIMC</td>\n",
       "      <td>02:40:00</td>\n",
       "      <td>06:55:00</td>\n",
       "      <td>15756.057036</td>\n",
       "      <td>18459.139309</td>\n",
       "      <td>13429.537738</td>\n",
       "      <td>13012.099800</td>\n",
       "    </tr>\n",
       "    <tr>\n",
       "      <th>206</th>\n",
       "      <td>AR1920</td>\n",
       "      <td>LIMC</td>\n",
       "      <td>MMMX</td>\n",
       "      <td>04:10:00</td>\n",
       "      <td>14:50:00</td>\n",
       "      <td>19539.195511</td>\n",
       "      <td>23924.402515</td>\n",
       "      <td>1000000.000000</td>\n",
       "      <td>1000000.000000</td>\n",
       "    </tr>\n",
       "    <tr>\n",
       "      <th>207</th>\n",
       "      <td>AR1921</td>\n",
       "      <td>MMMX</td>\n",
       "      <td>LIMC</td>\n",
       "      <td>16:25:00</td>\n",
       "      <td>03:05:00</td>\n",
       "      <td>19539.195511</td>\n",
       "      <td>23924.402515</td>\n",
       "      <td>1000000.000000</td>\n",
       "      <td>1000000.000000</td>\n",
       "    </tr>\n",
       "  </tbody>\n",
       "</table>\n",
       "<p>208 rows × 9 columns</p>\n",
       "</div>"
      ],
      "text/plain": [
       "    Flight Number   ORG  DEST Departure   Arrival          A330          A340  \\\n",
       "0          AR1132  LIMC  KJFK  23:55:00  11:10:00  19797.633985  24304.697082   \n",
       "1          AR1133  KJFK  LIMC  16:10:00  04:20:00  20186.704183  24878.728342   \n",
       "2          AR1140  LDZA  LTFM  20:05:00  20:50:00  11225.286689  12235.857049   \n",
       "3          AR1160  LIMC  ZBAA  22:55:00  10:35:00  19976.944094  24569.026366   \n",
       "4          AR1161  ZBAA  LIMC  14:20:00  03:00:00  20390.933229  25180.760278   \n",
       "..            ...   ...   ...       ...       ...           ...           ...   \n",
       "203        AR1893  BIKF  LIMC  19:05:00  21:31:00  13990.714954  15984.767576   \n",
       "204        AR1910  LIMC  SBGL  21:30:00  01:20:00  15402.914350  17959.826122   \n",
       "205        AR1911  SBGL  LIMC  02:40:00  06:55:00  15756.057036  18459.139309   \n",
       "206        AR1920  LIMC  MMMX  04:10:00  14:50:00  19539.195511  23924.402515   \n",
       "207        AR1921  MMMX  LIMC  16:25:00  03:05:00  19539.195511  23924.402515   \n",
       "\n",
       "               B737            B738  \n",
       "0    1000000.000000  1000000.000000  \n",
       "1    1000000.000000  1000000.000000  \n",
       "2       8753.575914     9021.988449  \n",
       "3    1000000.000000  1000000.000000  \n",
       "4    1000000.000000  1000000.000000  \n",
       "..              ...             ...  \n",
       "203    11514.338562    11401.743746  \n",
       "204    13038.003598    12685.016269  \n",
       "205    13429.537738    13012.099800  \n",
       "206  1000000.000000  1000000.000000  \n",
       "207  1000000.000000  1000000.000000  \n",
       "\n",
       "[208 rows x 9 columns]"
      ]
     },
     "execution_count": 4,
     "metadata": {},
     "output_type": "execute_result"
    }
   ],
   "source": [
    "data1"
   ]
  },
  {
   "cell_type": "code",
   "execution_count": 5,
   "id": "3a2cfe38-aceb-4480-af30-af7a35b18e0c",
   "metadata": {
    "ExecuteTime": {
     "end_time": "2023-12-20T12:14:55.028492Z",
     "start_time": "2023-12-20T12:14:55.018424Z"
    }
   },
   "outputs": [
    {
     "data": {
      "text/html": [
       "<div>\n",
       "<style scoped>\n",
       "    .dataframe tbody tr th:only-of-type {\n",
       "        vertical-align: middle;\n",
       "    }\n",
       "\n",
       "    .dataframe tbody tr th {\n",
       "        vertical-align: top;\n",
       "    }\n",
       "\n",
       "    .dataframe thead th {\n",
       "        text-align: right;\n",
       "    }\n",
       "</style>\n",
       "<table border=\"1\" class=\"dataframe\">\n",
       "  <thead>\n",
       "    <tr style=\"text-align: right;\">\n",
       "      <th></th>\n",
       "      <th>Itin No.</th>\n",
       "      <th>Origin</th>\n",
       "      <th>Destination</th>\n",
       "      <th>Demand</th>\n",
       "      <th>Fare</th>\n",
       "      <th>Stops</th>\n",
       "      <th>Leg 1</th>\n",
       "      <th>Leg 2</th>\n",
       "    </tr>\n",
       "  </thead>\n",
       "  <tbody>\n",
       "    <tr>\n",
       "      <th>0</th>\n",
       "      <td>0</td>\n",
       "      <td>CYYZ</td>\n",
       "      <td>LIMC</td>\n",
       "      <td>16</td>\n",
       "      <td>108</td>\n",
       "      <td>0</td>\n",
       "      <td>AR1365</td>\n",
       "      <td>0</td>\n",
       "    </tr>\n",
       "    <tr>\n",
       "      <th>1</th>\n",
       "      <td>1</td>\n",
       "      <td>CYYZ</td>\n",
       "      <td>EDDB</td>\n",
       "      <td>16</td>\n",
       "      <td>54</td>\n",
       "      <td>1</td>\n",
       "      <td>AR1365</td>\n",
       "      <td>AR1673</td>\n",
       "    </tr>\n",
       "    <tr>\n",
       "      <th>2</th>\n",
       "      <td>2</td>\n",
       "      <td>CYYZ</td>\n",
       "      <td>ZSPD</td>\n",
       "      <td>33</td>\n",
       "      <td>48</td>\n",
       "      <td>1</td>\n",
       "      <td>AR1365</td>\n",
       "      <td>AR1260</td>\n",
       "    </tr>\n",
       "    <tr>\n",
       "      <th>3</th>\n",
       "      <td>3</td>\n",
       "      <td>CYVR</td>\n",
       "      <td>LIMC</td>\n",
       "      <td>20</td>\n",
       "      <td>107</td>\n",
       "      <td>0</td>\n",
       "      <td>AR1255</td>\n",
       "      <td>0</td>\n",
       "    </tr>\n",
       "    <tr>\n",
       "      <th>4</th>\n",
       "      <td>4</td>\n",
       "      <td>CYVR</td>\n",
       "      <td>EDDB</td>\n",
       "      <td>20</td>\n",
       "      <td>51</td>\n",
       "      <td>1</td>\n",
       "      <td>AR1255</td>\n",
       "      <td>AR1673</td>\n",
       "    </tr>\n",
       "    <tr>\n",
       "      <th>...</th>\n",
       "      <td>...</td>\n",
       "      <td>...</td>\n",
       "      <td>...</td>\n",
       "      <td>...</td>\n",
       "      <td>...</td>\n",
       "      <td>...</td>\n",
       "      <td>...</td>\n",
       "      <td>...</td>\n",
       "    </tr>\n",
       "    <tr>\n",
       "      <th>551</th>\n",
       "      <td>551</td>\n",
       "      <td>LIMC</td>\n",
       "      <td>ZBAA</td>\n",
       "      <td>60</td>\n",
       "      <td>109</td>\n",
       "      <td>0</td>\n",
       "      <td>AR1160</td>\n",
       "      <td>0</td>\n",
       "    </tr>\n",
       "    <tr>\n",
       "      <th>552</th>\n",
       "      <td>552</td>\n",
       "      <td>LIMC</td>\n",
       "      <td>OMDB</td>\n",
       "      <td>67</td>\n",
       "      <td>105</td>\n",
       "      <td>0</td>\n",
       "      <td>AR1302</td>\n",
       "      <td>0</td>\n",
       "    </tr>\n",
       "    <tr>\n",
       "      <th>553</th>\n",
       "      <td>553</td>\n",
       "      <td>LIMC</td>\n",
       "      <td>EDDF</td>\n",
       "      <td>30</td>\n",
       "      <td>53</td>\n",
       "      <td>0</td>\n",
       "      <td>AR1304</td>\n",
       "      <td>0</td>\n",
       "    </tr>\n",
       "    <tr>\n",
       "      <th>554</th>\n",
       "      <td>554</td>\n",
       "      <td>LIMC</td>\n",
       "      <td>EDDB</td>\n",
       "      <td>16</td>\n",
       "      <td>53</td>\n",
       "      <td>0</td>\n",
       "      <td>AR1667</td>\n",
       "      <td>0</td>\n",
       "    </tr>\n",
       "    <tr>\n",
       "      <th>555</th>\n",
       "      <td>555</td>\n",
       "      <td>LIMC</td>\n",
       "      <td>KJFK</td>\n",
       "      <td>54</td>\n",
       "      <td>92</td>\n",
       "      <td>0</td>\n",
       "      <td>AR1132</td>\n",
       "      <td>0</td>\n",
       "    </tr>\n",
       "  </tbody>\n",
       "</table>\n",
       "<p>556 rows × 8 columns</p>\n",
       "</div>"
      ],
      "text/plain": [
       "     Itin No. Origin Destination  Demand  Fare  Stops   Leg 1   Leg 2\n",
       "0           0   CYYZ        LIMC      16   108      0  AR1365       0\n",
       "1           1   CYYZ        EDDB      16    54      1  AR1365  AR1673\n",
       "2           2   CYYZ        ZSPD      33    48      1  AR1365  AR1260\n",
       "3           3   CYVR        LIMC      20   107      0  AR1255       0\n",
       "4           4   CYVR        EDDB      20    51      1  AR1255  AR1673\n",
       "..        ...    ...         ...     ...   ...    ...     ...     ...\n",
       "551       551   LIMC        ZBAA      60   109      0  AR1160       0\n",
       "552       552   LIMC        OMDB      67   105      0  AR1302       0\n",
       "553       553   LIMC        EDDF      30    53      0  AR1304       0\n",
       "554       554   LIMC        EDDB      16    53      0  AR1667       0\n",
       "555       555   LIMC        KJFK      54    92      0  AR1132       0\n",
       "\n",
       "[556 rows x 8 columns]"
      ]
     },
     "execution_count": 5,
     "metadata": {},
     "output_type": "execute_result"
    }
   ],
   "source": [
    "data2"
   ]
  },
  {
   "cell_type": "code",
   "execution_count": 6,
   "id": "657d4f63-f762-4914-bbf3-f90541a0f88b",
   "metadata": {
    "ExecuteTime": {
     "end_time": "2023-12-20T12:14:57.853975Z",
     "start_time": "2023-12-20T12:14:57.831893Z"
    }
   },
   "outputs": [
    {
     "data": {
      "text/html": [
       "<div>\n",
       "<style scoped>\n",
       "    .dataframe tbody tr th:only-of-type {\n",
       "        vertical-align: middle;\n",
       "    }\n",
       "\n",
       "    .dataframe tbody tr th {\n",
       "        vertical-align: top;\n",
       "    }\n",
       "\n",
       "    .dataframe thead th {\n",
       "        text-align: right;\n",
       "    }\n",
       "</style>\n",
       "<table border=\"1\" class=\"dataframe\">\n",
       "  <thead>\n",
       "    <tr style=\"text-align: right;\">\n",
       "      <th></th>\n",
       "      <th>From Itinerary</th>\n",
       "      <th>To Itinerary</th>\n",
       "      <th>Recapture Rate</th>\n",
       "    </tr>\n",
       "  </thead>\n",
       "  <tbody>\n",
       "    <tr>\n",
       "      <th>0</th>\n",
       "      <td>54</td>\n",
       "      <td>58</td>\n",
       "      <td>0.39</td>\n",
       "    </tr>\n",
       "    <tr>\n",
       "      <th>1</th>\n",
       "      <td>56</td>\n",
       "      <td>59</td>\n",
       "      <td>0.35</td>\n",
       "    </tr>\n",
       "    <tr>\n",
       "      <th>2</th>\n",
       "      <td>58</td>\n",
       "      <td>54</td>\n",
       "      <td>0.35</td>\n",
       "    </tr>\n",
       "    <tr>\n",
       "      <th>3</th>\n",
       "      <td>59</td>\n",
       "      <td>56</td>\n",
       "      <td>0.34</td>\n",
       "    </tr>\n",
       "    <tr>\n",
       "      <th>4</th>\n",
       "      <td>63</td>\n",
       "      <td>66</td>\n",
       "      <td>0.38</td>\n",
       "    </tr>\n",
       "    <tr>\n",
       "      <th>...</th>\n",
       "      <td>...</td>\n",
       "      <td>...</td>\n",
       "      <td>...</td>\n",
       "    </tr>\n",
       "    <tr>\n",
       "      <th>163</th>\n",
       "      <td>513</td>\n",
       "      <td>418</td>\n",
       "      <td>0.15</td>\n",
       "    </tr>\n",
       "    <tr>\n",
       "      <th>164</th>\n",
       "      <td>515</td>\n",
       "      <td>464</td>\n",
       "      <td>0.18</td>\n",
       "    </tr>\n",
       "    <tr>\n",
       "      <th>165</th>\n",
       "      <td>516</td>\n",
       "      <td>444</td>\n",
       "      <td>0.19</td>\n",
       "    </tr>\n",
       "    <tr>\n",
       "      <th>166</th>\n",
       "      <td>523</td>\n",
       "      <td>451</td>\n",
       "      <td>0.11</td>\n",
       "    </tr>\n",
       "    <tr>\n",
       "      <th>167</th>\n",
       "      <td>547</td>\n",
       "      <td>535</td>\n",
       "      <td>0.37</td>\n",
       "    </tr>\n",
       "  </tbody>\n",
       "</table>\n",
       "<p>168 rows × 3 columns</p>\n",
       "</div>"
      ],
      "text/plain": [
       "     From Itinerary  To Itinerary  Recapture Rate\n",
       "0                54            58            0.39\n",
       "1                56            59            0.35\n",
       "2                58            54            0.35\n",
       "3                59            56            0.34\n",
       "4                63            66            0.38\n",
       "..              ...           ...             ...\n",
       "163             513           418            0.15\n",
       "164             515           464            0.18\n",
       "165             516           444            0.19\n",
       "166             523           451            0.11\n",
       "167             547           535            0.37\n",
       "\n",
       "[168 rows x 3 columns]"
      ]
     },
     "execution_count": 6,
     "metadata": {},
     "output_type": "execute_result"
    }
   ],
   "source": [
    "data3"
   ]
  },
  {
   "cell_type": "code",
   "execution_count": 7,
   "id": "de751d96-aea0-42bc-b79f-a0885795eaea",
   "metadata": {
    "ExecuteTime": {
     "end_time": "2023-12-20T12:15:00.055292Z",
     "start_time": "2023-12-20T12:15:00.052691Z"
    }
   },
   "outputs": [
    {
     "data": {
      "text/html": [
       "<div>\n",
       "<style scoped>\n",
       "    .dataframe tbody tr th:only-of-type {\n",
       "        vertical-align: middle;\n",
       "    }\n",
       "\n",
       "    .dataframe tbody tr th {\n",
       "        vertical-align: top;\n",
       "    }\n",
       "\n",
       "    .dataframe thead th {\n",
       "        text-align: right;\n",
       "    }\n",
       "</style>\n",
       "<table border=\"1\" class=\"dataframe\">\n",
       "  <thead>\n",
       "    <tr style=\"text-align: right;\">\n",
       "      <th></th>\n",
       "      <th>Type</th>\n",
       "      <th>Units</th>\n",
       "      <th>Seats</th>\n",
       "      <th>TAT</th>\n",
       "    </tr>\n",
       "  </thead>\n",
       "  <tbody>\n",
       "    <tr>\n",
       "      <th>0</th>\n",
       "      <td>A330</td>\n",
       "      <td>4</td>\n",
       "      <td>210</td>\n",
       "      <td>50</td>\n",
       "    </tr>\n",
       "    <tr>\n",
       "      <th>1</th>\n",
       "      <td>A340</td>\n",
       "      <td>2</td>\n",
       "      <td>220</td>\n",
       "      <td>60</td>\n",
       "    </tr>\n",
       "    <tr>\n",
       "      <th>2</th>\n",
       "      <td>B737</td>\n",
       "      <td>8</td>\n",
       "      <td>120</td>\n",
       "      <td>35</td>\n",
       "    </tr>\n",
       "    <tr>\n",
       "      <th>3</th>\n",
       "      <td>B738</td>\n",
       "      <td>29</td>\n",
       "      <td>140</td>\n",
       "      <td>35</td>\n",
       "    </tr>\n",
       "  </tbody>\n",
       "</table>\n",
       "</div>"
      ],
      "text/plain": [
       "   Type  Units  Seats  TAT\n",
       "0  A330      4    210   50\n",
       "1  A340      2    220   60\n",
       "2  B737      8    120   35\n",
       "3  B738     29    140   35"
      ]
     },
     "execution_count": 7,
     "metadata": {},
     "output_type": "execute_result"
    }
   ],
   "source": [
    "data4"
   ]
  },
  {
   "cell_type": "code",
   "execution_count": 8,
   "id": "6119889e-a59c-43e8-9d38-d25fcfca7f95",
   "metadata": {
    "ExecuteTime": {
     "end_time": "2023-12-20T12:15:02.098869Z",
     "start_time": "2023-12-20T12:15:02.092298Z"
    }
   },
   "outputs": [],
   "source": [
    "airports = ['LIMC',\n",
    "'KJFK',\n",
    "'LDZA',\n",
    "'ZBAA',\n",
    "'FACT',\n",
    "'CYVR',\n",
    "'ZSPD',\n",
    "'OMDB',\n",
    "'EDDF',\n",
    "'VIDP',\n",
    "'SAEZ',\n",
    "'CYYZ',\n",
    "'EBBR',\n",
    "'LTFM',\n",
    "'EETN',\n",
    "'LFPG',\n",
    "'LPPT',\n",
    "'EIDW',\n",
    "'RJAA',\n",
    "'LKPR',\n",
    "'LIMF',\n",
    "'ESSA',\n",
    "'EDDB',\n",
    "'EHEH',\n",
    "'LFQQ',\n",
    "'EFHK',\n",
    "'LEMD',\n",
    "'BIKF',\n",
    "'EDDM',\n",
    "'EFRO',\n",
    "'LGAV',\n",
    "'SBGL',\n",
    "'MMMX']\n",
    "\n",
    "flight_no = data1['Flight Number'].tolist()    # Flights list\n",
    "origin_airport = data1['ORG'].tolist()\n",
    "destination_airport = data1['DEST'].tolist()\n",
    "\n",
    "itinerary = data2['Itin No.'].tolist()\n",
    "demand = data2['Demand'].tolist()       # Daily unconstrained demand\n",
    "fare = data2['Fare'].tolist()\n",
    "leg1 = data2['Leg 1'].tolist()\n",
    "leg2 = data2['Leg 2'].tolist()\n",
    "stops = data2['Stops'].tolist()    # Ground arcs ?\n",
    "\n",
    "from_itinerary = data3['From Itinerary'].tolist()\n",
    "to_itinerary = data3['To Itinerary'].tolist()\n",
    "recapture_rate = data3['Recapture Rate'].tolist()       # Recapture rate of pax\n",
    "\n",
    "ac_type = data4['Type'].tolist()     # Type of aircraft: A330, A340, B737, B738\n",
    "seats = data4['Seats'].tolist()\n",
    "AC_units = data4['Units'].tolist()     # No of AC for each type\n",
    "\n",
    "fare_fictious = 0\n",
    "b_p_r_fictious = 1\n"
   ]
  },
  {
   "cell_type": "code",
   "execution_count": 9,
   "id": "141e9b97-6bb3-4937-ac4f-db1d7923f3b8",
   "metadata": {
    "ExecuteTime": {
     "end_time": "2023-12-20T12:15:08.625783Z",
     "start_time": "2023-12-20T12:15:08.618501Z"
    }
   },
   "outputs": [],
   "source": [
    "# inbound = []\n",
    "# for s in range(len(stops)):\n",
    "#     if stops[s] == 1:\n",
    "#         inbound.append(leg1[s])\n",
    "\n",
    "# outbound1 = []\n",
    "# for s in range(len(stops)):\n",
    "#     if stops[s] == 0:\n",
    "#         outbound1.append(leg1[s])\n",
    "\n",
    "# outbound2 = []\n",
    "# for s in range(len(stops)):\n",
    "#     if stops[s] == 1:\n",
    "#         outbound2.append(leg2[s])\n",
    "\n",
    "# outbound = outbound1 + outbound2\n",
    " "
   ]
  },
  {
   "cell_type": "code",
   "execution_count": 10,
   "id": "fd7b3c5c-c9e7-457f-ac20-21ef40791ff2",
   "metadata": {
    "ExecuteTime": {
     "end_time": "2023-12-20T12:15:11.641040Z",
     "start_time": "2023-12-20T12:15:11.634449Z"
    }
   },
   "outputs": [],
   "source": [
    "outbound = []\n",
    "for o in range(len(origin_airport)):\n",
    "    # for k in range(len(ac_type)):\n",
    "    outbound.append(leg1[o])\n",
    "\n",
    "inbound = []\n",
    "for o in range(len(destination_airport)):\n",
    "    # for k in range(len(ac_type)):\n",
    "    inbound.append(leg2[o])\n",
    "\n"
   ]
  },
  {
   "cell_type": "code",
   "execution_count": 11,
   "id": "bbb46968-33c5-42a9-9993-3a9c198b6402",
   "metadata": {
    "ExecuteTime": {
     "end_time": "2023-12-20T12:15:16.515632Z",
     "start_time": "2023-12-20T12:15:16.506525Z"
    }
   },
   "outputs": [
    {
     "data": {
      "text/plain": [
       "range(0, 208)"
      ]
     },
     "execution_count": 11,
     "metadata": {},
     "output_type": "execute_result"
    }
   ],
   "source": [
    "range(len(outbound))"
   ]
  },
  {
   "cell_type": "code",
   "execution_count": 12,
   "id": "e96fdb71-e9d2-4dc7-a4ae-68658b8156ea",
   "metadata": {
    "ExecuteTime": {
     "end_time": "2023-12-20T12:15:17.813937Z",
     "start_time": "2023-12-20T12:15:17.807700Z"
    }
   },
   "outputs": [
    {
     "data": {
      "text/plain": [
       "[0,\n",
       " 'AR1673',\n",
       " 'AR1260',\n",
       " 0,\n",
       " 'AR1673',\n",
       " 'AR1260',\n",
       " 0,\n",
       " 'AR1832',\n",
       " 'AR1471',\n",
       " 'AR1292',\n",
       " 'AR1822',\n",
       " 'AR1240',\n",
       " 'AR1651',\n",
       " 0,\n",
       " 'AR1673',\n",
       " 'AR1260',\n",
       " 0,\n",
       " 'AR1406',\n",
       " 'AR1471',\n",
       " 'AR1292',\n",
       " 'AR1822',\n",
       " 'AR1240',\n",
       " 'AR1507',\n",
       " 'AR1651',\n",
       " 'AR1600',\n",
       " 'AR1737',\n",
       " 0,\n",
       " 'AR1691',\n",
       " 'AR1722',\n",
       " 'AR1376',\n",
       " 'AR1322',\n",
       " 'AR1852',\n",
       " 0,\n",
       " 'AR1832',\n",
       " 'AR1406',\n",
       " 'AR1471',\n",
       " 'AR1292',\n",
       " 'AR1822',\n",
       " 'AR1240',\n",
       " 0,\n",
       " 0,\n",
       " 0,\n",
       " 0,\n",
       " 0,\n",
       " 0,\n",
       " 0,\n",
       " 0,\n",
       " 0,\n",
       " 'AR1412',\n",
       " 'AR1446',\n",
       " 'AR1671',\n",
       " 'AR1454',\n",
       " 'AR1816',\n",
       " 0,\n",
       " 'AR1651',\n",
       " 'AR1737',\n",
       " 'AR1402',\n",
       " 'AR1830',\n",
       " 'AR1653',\n",
       " 'AR1412',\n",
       " 'AR1446',\n",
       " 0,\n",
       " 0,\n",
       " 'AR1402',\n",
       " 'AR1830',\n",
       " 'AR1501',\n",
       " 'AR1412',\n",
       " 'AR1446',\n",
       " 'AR1671',\n",
       " 0,\n",
       " 0,\n",
       " 'AR1501',\n",
       " 'AR1653',\n",
       " 'AR1412',\n",
       " 'AR1671',\n",
       " 0,\n",
       " 0,\n",
       " 0,\n",
       " 0,\n",
       " 0,\n",
       " 'AR1653',\n",
       " 'AR1412',\n",
       " 'AR1446',\n",
       " 'AR1671',\n",
       " 'AR1454',\n",
       " 0,\n",
       " 0,\n",
       " 0,\n",
       " 0,\n",
       " 0,\n",
       " 0,\n",
       " 0,\n",
       " 0,\n",
       " 0,\n",
       " 0,\n",
       " 0,\n",
       " 'AR1454',\n",
       " 'AR1473',\n",
       " 'AR1647',\n",
       " 'AR1252',\n",
       " 0,\n",
       " 0,\n",
       " 'AR1473',\n",
       " 0,\n",
       " 0,\n",
       " 0,\n",
       " 0,\n",
       " 0,\n",
       " 0,\n",
       " 'AR1454',\n",
       " 'AR1816',\n",
       " 'AR1473',\n",
       " 'AR1647',\n",
       " 'AR1252',\n",
       " 'AR1684',\n",
       " 0,\n",
       " 'AR1816',\n",
       " 'AR1473',\n",
       " 'AR1647',\n",
       " 'AR1252',\n",
       " 'AR1684',\n",
       " 'AR1643',\n",
       " 'AR1677',\n",
       " 'AR1460',\n",
       " 'AR1755',\n",
       " 'AR1679',\n",
       " 0,\n",
       " 0,\n",
       " 'AR1816',\n",
       " 'AR1647',\n",
       " 'AR1252',\n",
       " 'AR1684',\n",
       " 'AR1659',\n",
       " 'AR1643',\n",
       " 'AR1677',\n",
       " 'AR1460',\n",
       " 'AR1755',\n",
       " 0,\n",
       " 0,\n",
       " 'AR1473',\n",
       " 'AR1252',\n",
       " 0,\n",
       " 0,\n",
       " 0,\n",
       " 'AR1677',\n",
       " 'AR1460',\n",
       " 'AR1755',\n",
       " 'AR1679',\n",
       " 'AR1434',\n",
       " 'AR1751',\n",
       " 'AR1456',\n",
       " 'AR1477',\n",
       " 'AR1422',\n",
       " 'AR1683',\n",
       " 0,\n",
       " 'AR1473',\n",
       " 'AR1252',\n",
       " 'AR1460',\n",
       " 0,\n",
       " 'AR1643',\n",
       " 'AR1677',\n",
       " 'AR1755',\n",
       " 'AR1679',\n",
       " 'AR1434',\n",
       " 'AR1844',\n",
       " 'AR1751',\n",
       " 0,\n",
       " 'AR1473',\n",
       " 'AR1252',\n",
       " 'AR1460',\n",
       " 0,\n",
       " 'AR1677',\n",
       " 'AR1460',\n",
       " 'AR1679',\n",
       " 'AR1434',\n",
       " 0,\n",
       " 'AR1643',\n",
       " 'AR1677',\n",
       " 'AR1460',\n",
       " 'AR1755',\n",
       " 'AR1679',\n",
       " 'AR1434',\n",
       " 'AR1751',\n",
       " 'AR1872',\n",
       " 0,\n",
       " 0,\n",
       " 0,\n",
       " 'AR1684',\n",
       " 'AR1677',\n",
       " 'AR1460',\n",
       " 'AR1755',\n",
       " 'AR1679',\n",
       " 'AR1434',\n",
       " 'AR1844',\n",
       " 'AR1751',\n",
       " 0,\n",
       " 0,\n",
       " 0,\n",
       " 'AR1477',\n",
       " 0,\n",
       " 'AR1460',\n",
       " 'AR1434',\n",
       " 'AR1456',\n",
       " 'AR1477',\n",
       " 0,\n",
       " 'AR1872',\n",
       " 'AR1456',\n",
       " 'AR1477']"
      ]
     },
     "execution_count": 12,
     "metadata": {},
     "output_type": "execute_result"
    }
   ],
   "source": [
    "inbound"
   ]
  },
  {
   "cell_type": "code",
   "execution_count": 13,
   "id": "b0c98542-92b5-4ecf-a548-b35f3a511941",
   "metadata": {
    "ExecuteTime": {
     "end_time": "2023-12-20T12:15:22.267123Z",
     "start_time": "2023-12-20T12:15:22.229438Z"
    }
   },
   "outputs": [],
   "source": [
    "delta_leg1 = np.zeros([len(flight_no), len(itinerary)])\n",
    "for i in range(len(flight_no)):\n",
    "    for p in range(len(itinerary)):\n",
    "        if flight_no[i] == leg1[p]: \n",
    "            delta_leg1[i, p] = 1\n",
    "\n",
    "delta_leg2 = np.zeros([len(flight_no), len(itinerary)])\n",
    "for i in range(len(flight_no)):\n",
    "    for p in range(len(itinerary)):\n",
    "        if flight_no[i] == leg2[p]: \n",
    "            delta_leg2[i, p] = 1        \n",
    "\n",
    "delta = delta_leg1 + delta_leg2\n",
    "\n",
    "# csv_file_path = 'delta.csv'\n",
    "\n",
    "# # Save 'delta' array to a CSV file\n",
    "# np.savetxt(csv_file_path, delta, delimiter=',', fmt='%d')"
   ]
  },
  {
   "cell_type": "code",
   "execution_count": 14,
   "id": "58da84b8-700f-43d7-9ac7-55b4c72d0604",
   "metadata": {
    "ExecuteTime": {
     "end_time": "2023-12-20T12:15:23.589613Z",
     "start_time": "2023-12-20T12:15:23.581651Z"
    }
   },
   "outputs": [
    {
     "data": {
      "text/plain": [
       "array([[0., 0., 0., ..., 0., 0., 1.],\n",
       "       [0., 0., 0., ..., 0., 0., 0.],\n",
       "       [0., 0., 0., ..., 0., 0., 0.],\n",
       "       ...,\n",
       "       [0., 0., 0., ..., 0., 0., 0.],\n",
       "       [0., 0., 0., ..., 0., 0., 0.],\n",
       "       [0., 0., 0., ..., 0., 0., 0.]])"
      ]
     },
     "execution_count": 14,
     "metadata": {},
     "output_type": "execute_result"
    }
   ],
   "source": [
    "delta_leg1"
   ]
  },
  {
   "cell_type": "code",
   "execution_count": 15,
   "id": "3e70c494-8015-48df-8866-89a9d21e86ae",
   "metadata": {
    "ExecuteTime": {
     "end_time": "2023-12-20T12:15:32.950023Z",
     "start_time": "2023-12-20T12:15:32.946214Z"
    }
   },
   "outputs": [
    {
     "data": {
      "text/plain": [
       "array([[0., 0., 0., ..., 0., 0., 0.],\n",
       "       [0., 0., 0., ..., 0., 0., 0.],\n",
       "       [0., 0., 0., ..., 0., 0., 0.],\n",
       "       ...,\n",
       "       [0., 0., 0., ..., 0., 0., 0.],\n",
       "       [0., 0., 0., ..., 0., 0., 0.],\n",
       "       [0., 0., 0., ..., 0., 0., 0.]])"
      ]
     },
     "execution_count": 15,
     "metadata": {},
     "output_type": "execute_result"
    }
   ],
   "source": [
    "delta_leg2"
   ]
  },
  {
   "cell_type": "code",
   "execution_count": 15,
   "id": "f6b9217c-67a5-43a3-bed9-ce501ee2698e",
   "metadata": {
    "ExecuteTime": {
     "end_time": "2023-12-20T12:15:36.031657Z",
     "start_time": "2023-12-20T12:15:36.024151Z"
    }
   },
   "outputs": [],
   "source": []
  },
  {
   "cell_type": "code",
   "execution_count": 16,
   "id": "c7065d91-061f-4cec-baff-c997fadc9260",
   "metadata": {
    "ExecuteTime": {
     "end_time": "2023-12-20T12:15:36.474942Z",
     "start_time": "2023-12-20T12:15:36.465371Z"
    }
   },
   "outputs": [],
   "source": [
    "# costs = {}\n",
    "# for i, flight in enumerate(flight_no):\n",
    "#     for k , aircraft in enumerate(ac_type):\n",
    "#         costs[i][k] = [flight][aircraft]"
   ]
  },
  {
   "cell_type": "code",
   "execution_count": 17,
   "id": "9794a30c-11a6-4998-b8ff-769f61e33e16",
   "metadata": {
    "ExecuteTime": {
     "end_time": "2023-12-20T12:15:36.804883Z",
     "start_time": "2023-12-20T12:15:36.795604Z"
    }
   },
   "outputs": [],
   "source": [
    "# costs = {}\n",
    "# for i, flight in enumerate(flight_no):\n",
    "#     costs[i] = {}\n",
    "#     for k, aircraft in enumerate(ac_type):\n",
    "#         costs[i][aircraft] = data1.at[i, aircraft]  # Replace your_data_frame with your DataFrame name"
   ]
  },
  {
   "cell_type": "code",
   "execution_count": 18,
   "id": "22974e55-2a32-409e-88c3-4f7abf807e0a",
   "metadata": {
    "ExecuteTime": {
     "end_time": "2023-12-20T12:15:37.184999Z",
     "start_time": "2023-12-20T12:15:37.176753Z"
    }
   },
   "outputs": [],
   "source": [
    "# # Define the costs matrix\n",
    "# costs = []\n",
    "# for i in range(len(flight_no)):\n",
    "#     costs.append([data1.at[i, ac] for ac in ac_type])\n",
    "\n",
    "\n",
    "# # Displaying the costs matrix\n",
    "# for row in costs:\n",
    "#     print(row)"
   ]
  },
  {
   "cell_type": "code",
   "execution_count": 19,
   "id": "d701c0e0-dca8-42f3-b4fe-a93262df5374",
   "metadata": {
    "ExecuteTime": {
     "end_time": "2023-12-20T12:15:37.656474Z",
     "start_time": "2023-12-20T12:15:37.644061Z"
    }
   },
   "outputs": [],
   "source": [
    "costs = [[data1.at[i, ac] for ac in ac_type] for i in range(len(flight_no))]\n"
   ]
  },
  {
   "cell_type": "code",
   "execution_count": 20,
   "id": "74cc3ad5-c598-4bf7-914f-791ac245342c",
   "metadata": {
    "ExecuteTime": {
     "end_time": "2023-12-20T12:15:38.195665Z",
     "start_time": "2023-12-20T12:15:38.190811Z"
    }
   },
   "outputs": [],
   "source": [
    "# # Get unique flight legs and convert them to strings conditionally\n",
    "# flight_legs = set(map(str, data2['Leg 1'])).union({str(x) for x in data2['Leg 2'] if not isinstance(x, int)})\n",
    "\n",
    "# # Create a matrix (DataFrame) to display 1 if a flight leg is part of the itinerary and 0 otherwise\n",
    "# delta = pd.DataFrame(\n",
    "#     np.zeros((len(data2), len(flight_legs))),\n",
    "#     columns=sorted(flight_legs),\n",
    "#     index=data2['Itin No.']\n",
    "# )\n",
    "\n",
    "# for index, row in data2.iterrows():\n",
    "#     if not isinstance(row['Leg 2'], int):\n",
    "#         matrix.loc[row['Itin No.'], str(row['Leg 2'])] = 1\n",
    "#     matrix.loc[row['Itin No.'], str(row['Leg 1'])] = 1\n",
    "\n",
    "# print(matrix)"
   ]
  },
  {
   "cell_type": "code",
   "execution_count": 21,
   "id": "5f083f0b-5fdd-4e63-bff5-6f761fb1c43f",
   "metadata": {
    "ExecuteTime": {
     "end_time": "2023-12-20T12:15:38.995029Z",
     "start_time": "2023-12-20T12:15:38.989533Z"
    }
   },
   "outputs": [
    {
     "name": "stdout",
     "output_type": "stream",
     "text": [
      "[[19797.63398491833, 24304.69708224594, 1000000.0, 1000000.0], [20186.70418251475, 24878.72834226834, 1000000.0, 1000000.0], [11225.28668868037, 12235.8570492468, 8753.575914428899, 9021.9884493102], [19976.94409424513, 24569.02636573759, 1000000.0, 1000000.0], [20390.9332290603, 25180.76027820611, 1000000.0, 1000000.0], [13769.20743966, 15678.33337062094, 11281.78538034747, 11204.26644645922], [13971.03580454209, 15957.50464624136, 11493.60456414206, 11384.15579240081], [13769.20743966, 15678.33337062094, 11281.78538034747, 11204.26644645922], [13971.03580454209, 15957.50464624136, 11493.60456414206, 11384.15579240081], [13971.03580454209, 15957.50464624136, 11493.60456414206, 11384.15579240081], [14438.84009394555, 16607.5832142374, 11990.29097595565, 11804.50590386202], [13971.03580454209, 15957.50464624136, 11493.60456414206, 11384.15579240081], [14349.04677402738, 16482.48390191806, 11894.34371745166, 11723.45996697625], [13971.03580454209, 15957.50464624136, 11493.60456414206, 11384.15579240081], [14438.84009394555, 16607.5832142374, 11990.29097595565, 11804.50590386202], [12577.89656198255, 14047.5867036687, 10063.60108379179, 10161.62788156483], [12435.59403692204, 13854.8712631936, 9921.945407977615, 10039.40213416547], [12577.89656198255, 14047.5867036687, 10063.60108379179, 10161.62788156483], [12435.59403692204, 13854.8712631936, 9921.945407977615, 10039.40213416547], [14068.56706835674, 16092.69490876691, 11596.50307423761, 11471.40565375829], [14526.93275996655, 16730.45769674327, 12084.698351841, 11884.18076507653], [19348.91765374098, 23644.9281607752, 1000000.0, 1000000.0], [18787.84474681594, 22823.4721537797, 1000000.0, 1000000.0], [18039.49653858192, 21734.15594197142, 1000000.0, 1000000.0], [18313.15835869841, 22131.64683785575, 1000000.0, 1000000.0], [18401.95180220854, 22260.83305988822, 1000000.0, 1000000.0], [18131.97293835411, 21868.36444554142, 1000000.0, 1000000.0], [16753.77952259959, 19880.59423693609, 1000000.0, 13948.57556245385], [16520.30166929646, 19546.57876274314, 14290.39307090117, 13727.8383653278], [14164.00737542587, 16225.16340970534, 11697.53186156212, 11556.9844904548], [14049.23178904206, 16065.8792924247, 11576.07605494219, 11454.09219224626], [15823.9521426512, 18555.37157460379, 13505.27425110714, 13075.25374995241], [15101.97281401014, 17535.97116344555, 12707.57161381932, 12408.17103308309], [17352.36561495441, 20740.62294090261, 1000000.0, 1000000.0], [17403.98867341719, 20815.0359404205, 1000000.0, 1000000.0], [11620.03041271259, 12759.77112172548, 9127.206904294828, 9349.282670166369], [12435.59403692204, 13854.8712631936, 9921.945407977615, 10039.40213416547], [11970.46634003091, 13228.30484041303, 9465.04096321857, 9643.595505034813], [12435.59403692204, 13854.8712631936, 9921.945407977615, 10039.40213416547], [12003.52719160543, 13272.66724366792, 9497.201837448385, 9671.53760016906], [12435.59403692204, 13854.8712631936, 9921.945407977615, 10039.40213416547], [12003.52719160543, 13272.66724366792, 9497.201837448385, 9671.53760016906], [12435.59403692204, 13854.8712631936, 9921.945407977615, 10039.40213416547], [12003.52719160543, 13272.66724366792, 9497.201837448385, 9671.53760016906], [12435.59403692204, 13854.8712631936, 9921.945407977615, 10039.40213416547], [12003.52719160543, 13272.66724366792, 9497.201837448385, 9671.53760016906], [12435.59403692204, 13854.8712631936, 9921.945407977615, 10039.40213416547], [12003.52719160543, 13272.66724366792, 9497.201837448385, 9671.53760016906], [12435.59403692204, 13854.8712631936, 9921.945407977615, 10039.40213416547], [12660.68134008345, 14159.91286672623, 10146.40252925839, 10232.97015043472], [11869.25526970764, 13092.66506150341, 9366.89168503191, 9558.241369031783], [12660.68134008345, 14159.91286672623, 10146.40252925839, 10232.97015043472], [11869.25526970764, 13092.66506150341, 9366.89168503191, 9558.241369031783], [12577.89656198255, 14047.5867036687, 10063.60108379179, 10161.62788156483], [12287.38623422546, 13654.66019476348, 9775.331466720872, 9912.660552270994], [12577.89656198255, 14047.5867036687, 10063.60108379179, 10161.62788156483], [13098.17994894025, 14756.06703215216, 10588.68124472927, 10612.82206398645], [12714.8568053113, 14233.50462550835, 10200.74385724445, 10279.75090492775], [13098.17994894025, 14756.06703215216, 10588.68124472927, 10612.82206398645], [12714.8568053113, 14233.50462550835, 10200.74385724445, 10279.75090492775], [12974.61023517276, 14587.26065068764, 10462.97247980834, 10505.06030133667], [13098.17994894025, 14756.06703215216, 10588.68124472927, 10612.82206398645], [12714.8568053113, 14233.50462550835, 10200.74385724445, 10279.75090492775], [12577.89656198255, 14047.5867036687, 10063.60108379179, 10161.62788156483], [12287.38623422546, 13654.66019476348, 9775.331466720872, 9912.660552270994], [12435.59403692204, 13854.8712631936, 9921.945407977615, 10039.40213416547], [12132.6083137408, 13446.13117498689, 9623.236629957932, 9780.9174383928], [12577.89656198255, 14047.5867036687, 10063.60108379179, 10161.62788156483], [12287.38623422546, 13654.66019476348, 9775.331466720872, 9912.660552270994], [12577.89656198255, 14047.5867036687, 10063.60108379179, 10161.62788156483], [12287.38623422546, 13654.66019476348, 9775.331466720872, 9912.660552270994], [12577.89656198255, 14047.5867036687, 10063.60108379179, 10161.62788156483], [12287.38623422546, 13654.66019476348, 9775.331466720872, 9912.660552270994], [11006.18156146753, 11946.9107212205, 8549.483503617204, 8842.34585961804], [11349.23026011232, 12399.90358775298, 8870.080583665374, 9124.257128852703], [11006.18156146753, 11946.9107212205, 8549.483503617204, 8842.34585961804], [11225.28668868037, 12235.8570492468, 8753.575914428899, 9021.9884493102], [11545.06394733528, 12659.95233210367, 9055.676355573909, 9286.774120715738], [11225.28668868037, 12235.8570492468, 8753.575914428899, 9021.9884493102], [11349.23026011232, 12399.90358775298, 8870.080583665374, 9124.257128852703], [11225.28668868037, 12235.8570492468, 8753.575914428899, 9021.9884493102], [11545.06394733528, 12659.95233210367, 9055.676355573909, 9286.774120715738], [11095.84864362041, 12064.99504775673, 8632.715930052565, 8915.683998207815], [11429.08509912381, 12505.81874482438, 8945.538502110556, 9190.390240276338], [11051.37052962429, 12006.39214932172, 8591.378881080986, 8879.274324356225], [11389.42252481726, 12453.19082580434, 8908.021303567293, 9157.519399830286], [11545.06394733528, 12659.95233210367, 9055.676355573909, 9286.774120715738], [11225.28668868037, 12235.8570492468, 8753.575914428899, 9021.9884493102], [11429.08509912381, 12505.81874482438, 8945.538502110556, 9190.390240276338], [10216.4906544801, 10917.40880645428, 7834.71181146596, 8207.77346378689], [11545.06394733528, 12659.95233210367, 9055.676355573909, 9286.774120715738], [11225.28668868037, 12235.8570492468, 8753.575914428899, 9021.9884493102], [16074.47841011319, 18911.100550591, 13785.99851684263, 13309.02281110185], [15957.23803353039, 18744.50288997563, 13654.37976519675, 13199.48076951687], [11006.18156146753, 11946.9107212205, 8549.483503617204, 8842.34585961804], [11429.08509912381, 12505.81874482438, 8945.538502110556, 9190.390240276338], [11182.78148016645, 12179.69699947439, 8713.795733927363, 8987.023361457965], [11429.08509912381, 12505.81874482438, 8945.538502110556, 9190.390240276338], [11182.78148016645, 12179.69699947439, 8713.795733927363, 8987.023361457965], [11429.08509912381, 12505.81874482438, 8945.538502110556, 9190.390240276338], [11182.78148016645, 12179.69699947439, 8713.795733927363, 8987.023361457965], [12549.8801694007, 14009.60818578573, 10035.64425315567, 10137.52325060145], [12036.26402561672, 13316.62149943266, 9529.095805027287, 9699.235207329037], [12549.8801694007, 14009.60818578573, 10035.64425315567, 10137.52325060145], [12036.26402561672, 13316.62149943266, 9529.095805027287, 9699.235207329037], [12549.8801694007, 14009.60818578573, 10035.64425315567, 10137.52325060145], [12036.26402561672, 13316.62149943266, 9529.095805027287, 9699.235207329037], [12549.8801694007, 14009.60818578573, 10035.64425315567, 10137.52325060145], [12036.26402561672, 13316.62149943266, 9529.095805027287, 9699.235207329037], [12549.8801694007, 14009.60818578573, 10035.64425315567, 10137.52325060145], [12036.26402561672, 13316.62149943266, 9529.095805027287, 9699.235207329037], [13098.17994894025, 14756.06703215216, 10588.68124472927, 10612.82206398645], [12577.89656198255, 14047.5867036687, 10063.60108379179, 10161.62788156483], [13217.98161384414, 14920.038170273, 10711.1388305723, 10717.64686153347], [12660.68134008345, 14159.91286672623, 10146.40252925839, 10232.97015043472], [12549.8801694007, 14009.60818578573, 10035.64425315567, 10137.52325060145], [12036.26402561672, 13316.62149943266, 9529.095805027287, 9699.235207329037], [13217.98161384414, 14920.038170273, 10711.1388305723, 10717.64686153347], [12794.67185081822, 14342.04507339891, 10281.02493658596, 10348.80507400876], [13098.17994894025, 14756.06703215216, 10588.68124472927, 10612.82206398645], [12660.68134008345, 14159.91286672623, 10146.40252925839, 10232.97015043472], [13098.17994894025, 14756.06703215216, 10588.68124472927, 10612.82206398645], [12714.8568053113, 14233.50462550835, 10200.74385724445, 10279.75090492775], [13217.98161384414, 14920.038170273, 10711.1388305723, 10717.64686153347], [12794.67185081822, 14342.04507339891, 10281.02493658596, 10348.80507400876], [13217.98161384414, 14920.038170273, 10711.1388305723, 10717.64686153347], [12660.68134008345, 14159.91286672623, 10146.40252925839, 10232.97015043472], [13217.98161384414, 14920.038170273, 10711.1388305723, 10717.64686153347], [13098.17994894025, 14756.06703215216, 10588.68124472927, 10612.82206398645], [12660.68134008345, 14159.91286672623, 10146.40252925839, 10232.97015043472], [13217.98161384414, 14920.038170273, 10711.1388305723, 10717.64686153347], [12660.68134008345, 14159.91286672623, 10146.40252925839, 10232.97015043472], [13217.98161384414, 14920.038170273, 10711.1388305723, 10717.64686153347], [12794.67185081822, 14342.04507339891, 10281.02493658596, 10348.80507400876], [12846.95623943302, 14413.22346436364, 10333.75686147994, 10394.12596125701], [12287.38623422546, 13654.66019476348, 9775.331466720872, 9912.660552270994], [12577.89656198255, 14047.5867036687, 10063.60108379179, 10161.62788156483], [12714.8568053113, 14233.50462550835, 10200.74385724445, 10279.75090492775], [12577.89656198255, 14047.5867036687, 10063.60108379179, 10161.62788156483], [12287.38623422546, 13654.66019476348, 9775.331466720872, 9912.660552270994], [12577.89656198255, 14047.5867036687, 10063.60108379179, 10161.62788156483], [12287.38623422546, 13654.66019476348, 9775.331466720872, 9912.660552270994], [12577.89656198255, 14047.5867036687, 10063.60108379179, 10161.62788156483], [11800.0, 13000.0, 9300.0, 9500.0], [11970.46634003091, 13228.30484041303, 9465.04096321857, 9643.595505034813], [11800.0, 13000.0, 9300.0, 9500.0], [11970.46634003091, 13228.30484041303, 9465.04096321857, 9643.595505034813], [11693.2452148155, 12857.3995023768, 9197.320658973527, 9410.48629576588], [11620.03041271259, 12759.77112172548, 9127.206904294828, 9349.282670166369], [11800.0, 13000.0, 9300.0, 9500.0], [11970.46634003091, 13228.30484041303, 9465.04096321857, 9643.595505034813], [11693.2452148155, 12857.3995023768, 9197.320658973527, 9410.48629576588], [11620.03041271259, 12759.77112172548, 9127.206904294828, 9349.282670166369], [13098.17994894025, 14756.06703215216, 10588.68124472927, 10612.82206398645], [15101.97281401014, 17535.97116344555, 12707.57161381932, 12408.17103308309], [13288.17125120295, 15016.24691929827, 10783.14806785368, 10779.21966002767], [10216.4906544801, 10917.40880645428, 7834.71181146596, 8207.77346378689], [14944.47572211299, 17314.76839464524, 12535.84838031046, 12263.99360148164], [12435.59403692204, 13854.8712631936, 9921.945407977615, 10039.40213416547], [12577.89656198255, 14047.5867036687, 10063.60108379179, 10161.62788156483], [14349.04677402738, 16482.48390191806, 11894.34371745166, 11723.45996697625], [12287.38623422546, 13654.66019476348, 9775.331466720872, 9912.660552270994], [16239.5627901998, 19146.05225180904, 13972.05677303413, 13463.69108956383], [12974.61023517276, 14587.26065068764, 10462.97247980834, 10505.06030133667], [16520.30166929646, 19546.57876274314, 14290.39307090117, 13727.8383653278], [14349.04677402738, 16482.48390191806, 11894.34371745166, 11723.45996697625], [13891.42479882133, 15847.29057874053, 11409.87203549169, 11313.09122426037], [13264.91076700226, 14984.35236913395, 10759.26312005668, 10758.80190904182], [13098.17994894025, 14756.06703215216, 10588.68124472927, 10612.82206398645], [13264.91076700226, 14984.35236913395, 10759.26312005668, 10758.80190904182], [13098.17994894025, 14756.06703215216, 10588.68124472927, 10612.82206398645], [13264.91076700226, 14984.35236913395, 10759.26312005668, 10758.80190904182], [13098.17994894025, 14756.06703215216, 10588.68124472927, 10612.82206398645], [13264.91076700226, 14984.35236913395, 10759.26312005668, 10758.80190904182], [13098.17994894025, 14756.06703215216, 10588.68124472927, 10612.82206398645], [15756.05703560259, 18459.13930942188, 13429.53773782059, 13012.0998002059], [14068.56706835674, 16092.69490876691, 11596.50307423761, 11471.40565375829], [14613.40422760044, 16851.20883267514, 12177.63352541493, 11962.54595167391], [14294.31902271341, 16406.31117167683, 11836.00610553098, 11674.14694762532], [14613.40422760044, 16851.20883267514, 12177.63352541493, 11962.54595167391], [14294.31902271341, 16406.31117167683, 11836.00610553098, 11674.14694762532], [14330.87659368368, 16457.1875687725, 11874.96315892893, 11707.0805120552], [14068.56706835674, 16092.69490876691, 11596.50307423761, 11471.40565375829], [14613.40422760044, 16851.20883267514, 12177.63352541493, 11962.54595167391], [14491.89455042873, 16681.56821674581, 12047.11574401635, 11852.47131734378], [10216.4906544801, 10917.40880645428, 7834.71181146596, 8207.77346378689], [12714.8568053113, 14233.50462550835, 10200.74385724445, 10279.75090492775], [12435.59403692204, 13854.8712631936, 9921.945407977615, 10039.40213416547], [12714.8568053113, 14233.50462550835, 10200.74385724445, 10279.75090492775], [12435.59403692204, 13854.8712631936, 9921.945407977615, 10039.40213416547], [14349.04677402738, 16482.48390191806, 11894.34371745166, 11723.45996697625], [15970.38900686573, 18763.17942576174, 13669.12206291697, 13211.75567808798], [14349.04677402738, 16482.48390191806, 11894.34371745166, 11723.45996697625], [13891.42479882133, 15847.29057874053, 11409.87203549169, 11313.09122426037], [11225.28668868037, 12235.8570492468, 8753.575914428899, 9021.9884493102], [13891.42479882133, 15847.29057874053, 11409.87203549169, 11313.09122426037], [14613.40422760044, 16851.20883267514, 12177.63352541493, 11962.54595167391], [14491.89455042873, 16681.56821674581, 12047.11574401635, 11852.47131734378], [15254.66729918394, 17750.83786126223, 12874.85360582586, 12548.41901814613], [14068.56706835674, 16092.69490876691, 11596.50307423761, 11471.40565375829], [14613.40422760044, 16851.20883267514, 12177.63352541493, 11962.54595167391], [14491.89455042873, 16681.56821674581, 12047.11574401635, 11852.47131734378], [14438.84009394555, 16607.5832142374, 11990.29097595565, 11804.50590386202], [13990.7149541854, 15984.76757629617, 11514.33856190023, 11401.74374566112], [15402.91435043369, 17959.82612172375, 13038.00359817694, 12685.01626858536], [15756.05703560259, 18459.13930942188, 13429.53773782059, 13012.0998002059], [19539.19551055278, 23924.40251546406, 1000000.0, 1000000.0], [19539.19551055278, 23924.40251546406, 1000000.0, 1000000.0]]\n"
     ]
    }
   ],
   "source": [
    "print(costs)"
   ]
  },
  {
   "cell_type": "code",
   "execution_count": 22,
   "id": "41916dfd-74ea-4b51-9ac7-9cfba5c595cd",
   "metadata": {
    "ExecuteTime": {
     "end_time": "2023-12-20T12:15:40.487986Z",
     "start_time": "2023-12-20T12:15:40.480311Z"
    }
   },
   "outputs": [],
   "source": [
    "# a330_costs  = data1['A330'].tolist()\n",
    "# a340_costs  = data1['A340'].tolist()\n",
    "# b737_costs  = data1['B737'].tolist()\n",
    "# b738_costs  = data1['B738'].tolist()\n",
    "\n",
    "# keys = ['A330', 'A340', 'B737', 'B738']\n",
    "# values = [a330_costs, a340_costs, b737_costs, b738_costs]\n",
    "# op_costs = dict(zip(keys, values))p\n",
    "# print(op_costs)"
   ]
  },
  {
   "cell_type": "code",
   "execution_count": 28,
   "id": "6e100848-7a30-4bd6-ab71-8a2c29a2daba",
   "metadata": {
    "ExecuteTime": {
     "end_time": "2023-12-20T12:35:06.616817Z",
     "start_time": "2023-12-20T12:35:06.604089Z"
    }
   },
   "outputs": [],
   "source": [
    "Q = np.zeros(len(flight_no))\n",
    "for i in range(len(flight_no)):\n",
    "    Q[i] = sum(delta[i, p] * demand[p] for p in range(len(itinerary)))"
   ]
  },
  {
   "cell_type": "code",
   "execution_count": 24,
   "id": "c59fe4b7-1169-4114-81e5-66eed7507eab",
   "metadata": {
    "ExecuteTime": {
     "end_time": "2023-12-20T12:15:42.613227Z",
     "start_time": "2023-12-20T12:15:42.605817Z"
    }
   },
   "outputs": [
    {
     "data": {
      "text/plain": [
       "array([ 73., 263.,  15.,  88.,  71., 242., 345., 478., 261., 200., 329.,\n",
       "        91.,  72., 257., 114., 210., 175., 157., 162., 112., 241.,  99.,\n",
       "       259.,  40., 112., 159., 100.,  56.,  76.,  26.,  27., 107.,  65.,\n",
       "        72.,  60.,  21.,  97., 115.,  55., 140., 202.,  35., 153.,  96.,\n",
       "       162., 111., 108., 137.,  61.,  73., 148., 108.,  27., 300., 232.,\n",
       "       130., 125., 163., 185., 144., 190., 185., 215., 236., 202., 146.,\n",
       "       331., 204., 324., 355., 158., 328., 351.,  57.,  52.,  31.,  61.,\n",
       "        39.,  48.,  25.,  20.,  51.,  36.,  22.,  19.,  20.,  53.,  65.,\n",
       "        26.,  11.,  52.,  69.,  13.,  16.,  26.,  40.,  67.,  55.,  64.,\n",
       "        68.,  43., 102., 150., 105., 116., 129., 103., 119.,  88., 159.,\n",
       "        34.,  21.,  20.,  22.,  69.,  55., 133., 126.,  77., 122.,  86.,\n",
       "       109.,  39.,  87., 117.,  86.,  27., 102.,  82., 114., 125.,  30.,\n",
       "        49.,  67.,  51.,   9.,  18.,  12.,   9.,  25.,  14.,  11.,  25.,\n",
       "        65.,  78.,  87., 149., 104., 125.,  96.,  39., 141.,  28.,  10.,\n",
       "        10.,  16.,  12.,  12.,  24.,  77.,  61.,  37.,  26.,  62.,   8.,\n",
       "        17.,  60., 150., 155.,  61., 220., 251.,  63., 171., 146.,   8.,\n",
       "         9.,  36.,  37.,  25.,  46.,  34., 146.,  16.,  15.,  13.,  21.,\n",
       "        65.,  65.,  25.,  15.,  15.,  58.,  56.,  10.,  39.,   8.,  16.,\n",
       "        64., 126.,  21.,  13.,  15.,  42., 145., 120.,  21.,  39.])"
      ]
     },
     "execution_count": 24,
     "metadata": {},
     "output_type": "execute_result"
    }
   ],
   "source": [
    "Q"
   ]
  },
  {
   "cell_type": "markdown",
   "id": "5a762bd0-57e7-4492-b47b-023a79dfb1fd",
   "metadata": {},
   "source": [
    "## Optimization model"
   ]
  },
  {
   "cell_type": "code",
   "execution_count": 25,
   "id": "45c98d18-1ae7-4746-8477-f203d606c232",
   "metadata": {
    "ExecuteTime": {
     "end_time": "2023-12-20T12:15:45.552302Z",
     "start_time": "2023-12-20T12:15:44.991134Z"
    }
   },
   "outputs": [
    {
     "name": "stdout",
     "output_type": "stream",
     "text": [
      "Set parameter WLSAccessID\n",
      "Set parameter WLSSecret\n",
      "Set parameter LicenseID to value 2447081\n",
      "Academic license 2447081 - for non-commercial use only - registered to yf___@tudelft.net\n"
     ]
    }
   ],
   "source": [
    "m = Model('model')\n",
    "\n",
    "# Decision variables\n",
    "f = {} # direct pax flow from airport i to airport j\n",
    "t = {} # number of px that would like to travel on itinerary p and are rellocated by the airline to itinerary r \n",
    "y = {} # number of aircraft of type k on the ground/flight arc a/n (integer)"
   ]
  },
  {
   "cell_type": "code",
   "execution_count": 26,
   "id": "95944bd8-e8cd-47f4-bda4-6de918c44c49",
   "metadata": {
    "ExecuteTime": {
     "end_time": "2023-12-20T12:15:46.479593Z",
     "start_time": "2023-12-20T12:15:46.474999Z"
    }
   },
   "outputs": [],
   "source": [
    "L = range(len(flight_no))\n",
    "P = range(len(itinerary))\n",
    "N = range(len(airports))\n",
    "K = range(len(ac_type))\n",
    "I = range(len(inbound))\n",
    "O = range(len(outbound))\n",
    "N_plus = range(len(origin_airport))\n",
    "N_minus = range(len(destination_airport))"
   ]
  },
  {
   "cell_type": "code",
   "execution_count": 30,
   "id": "b09b2da1-9cf5-4921-bcd0-ecc65980726e",
   "metadata": {
    "ExecuteTime": {
     "end_time": "2023-12-20T13:00:01.282802Z",
     "start_time": "2023-12-20T12:59:58.593761Z"
    }
   },
   "outputs": [
    {
     "ename": "TypeError",
     "evalue": "'range' object is not callable",
     "output_type": "error",
     "traceback": [
      "\u001B[0;31m---------------------------------------------------------------------------\u001B[0m",
      "\u001B[0;31mTypeError\u001B[0m                                 Traceback (most recent call last)",
      "Input \u001B[0;32mIn [30]\u001B[0m, in \u001B[0;36m<cell line: 23>\u001B[0;34m()\u001B[0m\n\u001B[1;32m     23\u001B[0m \u001B[38;5;28;01mfor\u001B[39;00m k \u001B[38;5;129;01min\u001B[39;00m K:\n\u001B[1;32m     24\u001B[0m     \u001B[38;5;28;01mfor\u001B[39;00m n \u001B[38;5;129;01min\u001B[39;00m N:\n\u001B[0;32m---> 25\u001B[0m         m\u001B[38;5;241m.\u001B[39maddConstr(quicksum(f[j,k] \u001B[38;5;28;01mfor\u001B[39;00m j \u001B[38;5;129;01min\u001B[39;00m \u001B[43mO\u001B[49m\u001B[43m(\u001B[49m\u001B[43mk\u001B[49m\u001B[43m,\u001B[49m\u001B[43mn\u001B[49m\u001B[43m)\u001B[49m) \u001B[38;5;241m-\u001B[39m quicksum(f[j,k] \u001B[38;5;28;01mfor\u001B[39;00m j \u001B[38;5;129;01min\u001B[39;00m I(k,n)) \u001B[38;5;241m==\u001B[39m y[n,k] \u001B[38;5;241m-\u001B[39m y[n,k])\n\u001B[1;32m     27\u001B[0m \u001B[38;5;66;03m# Seats Capacity\u001B[39;00m\n\u001B[1;32m     28\u001B[0m \u001B[38;5;28;01mfor\u001B[39;00m i \u001B[38;5;129;01min\u001B[39;00m L:\n",
      "\u001B[0;31mTypeError\u001B[0m: 'range' object is not callable"
     ]
    }
   ],
   "source": [
    "A = [(i, k) for i in L for k in K]\n",
    "B = [(p, r) for p in P for r in P]\n",
    "C = [(i, k) for i in L for k in K]\n",
    "\n",
    "f = m.addVars(L, K, vtype=GRB.BINARY, name=\"f\")\n",
    "y = m.addVars(G, K, vtype=GRB.INTEGER, name=\"y\")\n",
    "t = m.addVars(P, P, vtype=GRB.INTEGER, name=\"t\")\n",
    "\n",
    "objective = quicksum(c_ki[i][k] * f[i,k] for i in L for k in K) + \\\n",
    "            quicksum((fare_p[p] - b_rp[r][p] * fare_r[r]) * t[p,r] for p in P for r in P)\n",
    "m.setObjective(objective, GRB.MINIMIZE)\n",
    "\n",
    "\n",
    "m.update()\n",
    "m.setObjective(m.getObjective(), GRB.MINIMIZE)  \n",
    "\n",
    "\n",
    "# Flight Schedule Coverage\n",
    "for i in L:\n",
    "    m.addConstr(quicksum(f[i, k] for k in K) == 1)\n",
    "\n",
    "# Balance at Each Node\n",
    "for k in K:\n",
    "    for n in N:\n",
    "        m.addConstr(quicksum(f[i,k] for i in O[k,n]) - quicksum(f[i,k] for i in I[k,n]) == y[n,k] - y[n,k])\n",
    "\n",
    "# Number of Aircraft Available\n",
    "for k in K:\n",
    "    m.addConstr(quicksum(y[a,k] + f[a,k] for a in NG[k]) <= AC[k])\n",
    "\n",
    "# Seat Capacity and Demand\n",
    "for i in L:\n",
    "    m.addConstr(quicksum(SEATS[k] * f[i,k] for k in K) + quicksum(t[p,r] for p in P for r in P if delta[i][p][r]) >= Q[i])\n",
    "\n",
    "\n",
    "m.update()\n",
    "\n",
    "m.setParam('OutputFlag', 1)\n",
    "\n",
    "m.optimize()\n",
    "\n",
    "for v in m.getVars():\n",
    "    if v.x > 0:\n",
    "        print(f'{v.varName} = {v.x}')\n",
    "# m.write(\"testout.sol\")\n",
    "status = m.status"
   ]
  },
  {
   "cell_type": "code",
   "execution_count": 20,
   "id": "1989fb1a-7cdc-40b5-abcc-24b568617884",
   "metadata": {},
   "outputs": [
    {
     "ename": "AttributeError",
     "evalue": "Unable to retrieve attribute 'pi'",
     "output_type": "error",
     "traceback": [
      "\u001B[0;31m---------------------------------------------------------------------------\u001B[0m",
      "\u001B[0;31mAttributeError\u001B[0m                            Traceback (most recent call last)",
      "Cell \u001B[0;32mIn[20], line 2\u001B[0m\n\u001B[1;32m      1\u001B[0m \u001B[38;5;28;01mfor\u001B[39;00m c \u001B[38;5;129;01min\u001B[39;00m m\u001B[38;5;241m.\u001B[39mgetConstrs():\n\u001B[0;32m----> 2\u001B[0m     \u001B[38;5;28mprint\u001B[39m (\u001B[38;5;124m'\u001B[39m\u001B[38;5;124mThe dual value of \u001B[39m\u001B[38;5;132;01m%s\u001B[39;00m\u001B[38;5;124m : \u001B[39m\u001B[38;5;132;01m%g\u001B[39;00m\u001B[38;5;124m'\u001B[39m\u001B[38;5;241m%\u001B[39m(c\u001B[38;5;241m.\u001B[39mconstrName,\u001B[43mc\u001B[49m\u001B[38;5;241;43m.\u001B[39;49m\u001B[43mpi\u001B[49m))\n",
      "File \u001B[0;32msrc/gurobipy/constr.pxi:67\u001B[0m, in \u001B[0;36mgurobipy.Constr.__getattr__\u001B[0;34m()\u001B[0m\n",
      "File \u001B[0;32msrc/gurobipy/constr.pxi:95\u001B[0m, in \u001B[0;36mgurobipy.Constr.getAttr\u001B[0;34m()\u001B[0m\n",
      "File \u001B[0;32msrc/gurobipy/attrutil.pxi:100\u001B[0m, in \u001B[0;36mgurobipy.__getattr\u001B[0;34m()\u001B[0m\n",
      "\u001B[0;31mAttributeError\u001B[0m: Unable to retrieve attribute 'pi'"
     ]
    }
   ],
   "source": [
    "for c in m.getConstrs():\n",
    "    print ('The dual value of %s : %g'%(c.constrName,c.pi))"
   ]
  },
  {
   "cell_type": "code",
   "execution_count": null,
   "id": "f7921714-1902-473d-b2ef-a718722d5108",
   "metadata": {},
   "outputs": [],
   "source": []
  },
  {
   "cell_type": "code",
   "execution_count": 23,
   "id": "809e8dfb-1a55-430a-8ba7-6290a18d92bb",
   "metadata": {},
   "outputs": [
    {
     "ename": "TypeError",
     "evalue": "argument of type 'float' is not iterable",
     "output_type": "error",
     "traceback": [
      "\u001B[0;31m---------------------------------------------------------------------------\u001B[0m",
      "\u001B[0;31mTypeError\u001B[0m                                 Traceback (most recent call last)",
      "Cell \u001B[0;32mIn[23], line 9\u001B[0m\n\u001B[1;32m      7\u001B[0m dual_values \u001B[38;5;241m=\u001B[39m {}\n\u001B[1;32m      8\u001B[0m \u001B[38;5;28;01mfor\u001B[39;00m log \u001B[38;5;129;01min\u001B[39;00m solver_logs:\n\u001B[0;32m----> 9\u001B[0m     \u001B[38;5;28;01mif\u001B[39;00m \u001B[38;5;124;43m'\u001B[39;49m\u001B[38;5;124;43mRHS\u001B[39;49m\u001B[38;5;124;43m'\u001B[39;49m\u001B[43m \u001B[49m\u001B[38;5;129;43;01min\u001B[39;49;00m\u001B[43m \u001B[49m\u001B[43mlog\u001B[49m:\n\u001B[1;32m     10\u001B[0m         dual_values[log] \u001B[38;5;241m=\u001B[39m solver_logs[log]\n\u001B[1;32m     12\u001B[0m \u001B[38;5;66;03m# Print or access the dual values for each constraint\u001B[39;00m\n",
      "\u001B[0;31mTypeError\u001B[0m: argument of type 'float' is not iterable"
     ]
    }
   ],
   "source": [
    "# Access solver logs to retrieve dual values\n",
    "if m.status == GRB.OPTIMAL:\n",
    "    # Retrieve solver logs\n",
    "    solver_logs = m.getAttr('X', m.getVars())\n",
    "\n",
    "    # Extract dual values from solver logs\n",
    "    dual_values = {}\n",
    "    for log in solver_logs:\n",
    "        if 'RHS' in log:\n",
    "            dual_values[log] = solver_logs[log]\n",
    "    \n",
    "    # Print or access the dual values for each constraint\n",
    "    for constraint, dual in dual_values.items():\n",
    "        print(f\"Dual value for constraint {constraint}: {dual}\")\n",
    "else:\n",
    "    print(\"Optimization was not successful. Check the status before retrieving dual values.\")\n"
   ]
  },
  {
   "cell_type": "code",
   "execution_count": null,
   "id": "a48d6606-6660-4fb2-9ad2-1968915a5dbf",
   "metadata": {},
   "outputs": [],
   "source": []
  }
 ],
 "metadata": {
  "kernelspec": {
   "display_name": "Python 3 (ipykernel)",
   "language": "python",
   "name": "python3"
  },
  "language_info": {
   "codemirror_mode": {
    "name": "ipython",
    "version": 3
   },
   "file_extension": ".py",
   "mimetype": "text/x-python",
   "name": "python",
   "nbconvert_exporter": "python",
   "pygments_lexer": "ipython3",
   "version": "3.9.12"
  }
 },
 "nbformat": 4,
 "nbformat_minor": 5
}
